{
 "cells": [
  {
   "cell_type": "markdown",
   "metadata": {},
   "source": [
    "## In this notebook we are going to Predict the Growth of Google Stock using LSTM Model and CRISP-DM."
   ]
  },
  {
   "cell_type": "code",
   "execution_count": 3,
   "metadata": {},
   "outputs": [
    {
     "data": {
      "text/plain": [
       "\"For LSTM model please use Numpy --version = 1.19 or lower Cause latest Tensorflow array don't accept np tensors\\n\""
      ]
     },
     "execution_count": 3,
     "metadata": {},
     "output_type": "execute_result"
    }
   ],
   "source": [
    "#importing the libraries\n",
    "import math\n",
    "import numpy as np\n",
    "import pandas as pd\n",
    "from sklearn.preprocessing import MinMaxScaler\n",
    "from keras.models import Sequential\n",
    "from keras.layers import Dense, LSTM\n",
    "import matplotlib.pyplot as plt\n",
    "plt.style.use('fivethirtyeight')\n",
    "\"\"\"For LSTM model please use Numpy --version = 1.19 or lower Cause latest Tensorflow array don't accept np tensors\n",
    "\"\"\""
   ]
  },
  {
   "cell_type": "markdown",
   "metadata": {},
   "source": [
    "# Data Understanding"
   ]
  },
  {
   "cell_type": "markdown",
   "metadata": {},
   "source": [
    "The data is already processed to price-split values so it is easy to analysis but we are creating new tables to optimize our model"
   ]
  },
  {
   "cell_type": "code",
   "execution_count": 4,
   "metadata": {},
   "outputs": [
    {
     "data": {
      "text/html": [
       "<div>\n",
       "<style scoped>\n",
       "    .dataframe tbody tr th:only-of-type {\n",
       "        vertical-align: middle;\n",
       "    }\n",
       "\n",
       "    .dataframe tbody tr th {\n",
       "        vertical-align: top;\n",
       "    }\n",
       "\n",
       "    .dataframe thead th {\n",
       "        text-align: right;\n",
       "    }\n",
       "</style>\n",
       "<table border=\"1\" class=\"dataframe\">\n",
       "  <thead>\n",
       "    <tr style=\"text-align: right;\">\n",
       "      <th></th>\n",
       "      <th>date</th>\n",
       "      <th>symbol</th>\n",
       "      <th>open</th>\n",
       "      <th>close</th>\n",
       "      <th>low</th>\n",
       "      <th>high</th>\n",
       "      <th>volume</th>\n",
       "    </tr>\n",
       "  </thead>\n",
       "  <tbody>\n",
       "    <tr>\n",
       "      <th>0</th>\n",
       "      <td>2016-01-05</td>\n",
       "      <td>WLTW</td>\n",
       "      <td>123.430000</td>\n",
       "      <td>125.839996</td>\n",
       "      <td>122.309998</td>\n",
       "      <td>126.250000</td>\n",
       "      <td>2163600.0</td>\n",
       "    </tr>\n",
       "    <tr>\n",
       "      <th>1</th>\n",
       "      <td>2016-01-06</td>\n",
       "      <td>WLTW</td>\n",
       "      <td>125.239998</td>\n",
       "      <td>119.980003</td>\n",
       "      <td>119.940002</td>\n",
       "      <td>125.540001</td>\n",
       "      <td>2386400.0</td>\n",
       "    </tr>\n",
       "    <tr>\n",
       "      <th>2</th>\n",
       "      <td>2016-01-07</td>\n",
       "      <td>WLTW</td>\n",
       "      <td>116.379997</td>\n",
       "      <td>114.949997</td>\n",
       "      <td>114.930000</td>\n",
       "      <td>119.739998</td>\n",
       "      <td>2489500.0</td>\n",
       "    </tr>\n",
       "    <tr>\n",
       "      <th>3</th>\n",
       "      <td>2016-01-08</td>\n",
       "      <td>WLTW</td>\n",
       "      <td>115.480003</td>\n",
       "      <td>116.620003</td>\n",
       "      <td>113.500000</td>\n",
       "      <td>117.440002</td>\n",
       "      <td>2006300.0</td>\n",
       "    </tr>\n",
       "    <tr>\n",
       "      <th>4</th>\n",
       "      <td>2016-01-11</td>\n",
       "      <td>WLTW</td>\n",
       "      <td>117.010002</td>\n",
       "      <td>114.970001</td>\n",
       "      <td>114.089996</td>\n",
       "      <td>117.330002</td>\n",
       "      <td>1408600.0</td>\n",
       "    </tr>\n",
       "    <tr>\n",
       "      <th>...</th>\n",
       "      <td>...</td>\n",
       "      <td>...</td>\n",
       "      <td>...</td>\n",
       "      <td>...</td>\n",
       "      <td>...</td>\n",
       "      <td>...</td>\n",
       "      <td>...</td>\n",
       "    </tr>\n",
       "    <tr>\n",
       "      <th>851259</th>\n",
       "      <td>2016-12-30</td>\n",
       "      <td>ZBH</td>\n",
       "      <td>103.309998</td>\n",
       "      <td>103.199997</td>\n",
       "      <td>102.849998</td>\n",
       "      <td>103.930000</td>\n",
       "      <td>973800.0</td>\n",
       "    </tr>\n",
       "    <tr>\n",
       "      <th>851260</th>\n",
       "      <td>2016-12-30</td>\n",
       "      <td>ZION</td>\n",
       "      <td>43.070000</td>\n",
       "      <td>43.040001</td>\n",
       "      <td>42.689999</td>\n",
       "      <td>43.310001</td>\n",
       "      <td>1938100.0</td>\n",
       "    </tr>\n",
       "    <tr>\n",
       "      <th>851261</th>\n",
       "      <td>2016-12-30</td>\n",
       "      <td>ZTS</td>\n",
       "      <td>53.639999</td>\n",
       "      <td>53.529999</td>\n",
       "      <td>53.270000</td>\n",
       "      <td>53.740002</td>\n",
       "      <td>1701200.0</td>\n",
       "    </tr>\n",
       "    <tr>\n",
       "      <th>851262</th>\n",
       "      <td>2016-12-30</td>\n",
       "      <td>AIV</td>\n",
       "      <td>44.730000</td>\n",
       "      <td>45.450001</td>\n",
       "      <td>44.410000</td>\n",
       "      <td>45.590000</td>\n",
       "      <td>1380900.0</td>\n",
       "    </tr>\n",
       "    <tr>\n",
       "      <th>851263</th>\n",
       "      <td>2016-12-30</td>\n",
       "      <td>FTV</td>\n",
       "      <td>54.200001</td>\n",
       "      <td>53.630001</td>\n",
       "      <td>53.389999</td>\n",
       "      <td>54.480000</td>\n",
       "      <td>705100.0</td>\n",
       "    </tr>\n",
       "  </tbody>\n",
       "</table>\n",
       "<p>851264 rows × 7 columns</p>\n",
       "</div>"
      ],
      "text/plain": [
       "              date symbol        open       close         low        high  \\\n",
       "0       2016-01-05   WLTW  123.430000  125.839996  122.309998  126.250000   \n",
       "1       2016-01-06   WLTW  125.239998  119.980003  119.940002  125.540001   \n",
       "2       2016-01-07   WLTW  116.379997  114.949997  114.930000  119.739998   \n",
       "3       2016-01-08   WLTW  115.480003  116.620003  113.500000  117.440002   \n",
       "4       2016-01-11   WLTW  117.010002  114.970001  114.089996  117.330002   \n",
       "...            ...    ...         ...         ...         ...         ...   \n",
       "851259  2016-12-30    ZBH  103.309998  103.199997  102.849998  103.930000   \n",
       "851260  2016-12-30   ZION   43.070000   43.040001   42.689999   43.310001   \n",
       "851261  2016-12-30    ZTS   53.639999   53.529999   53.270000   53.740002   \n",
       "851262  2016-12-30    AIV   44.730000   45.450001   44.410000   45.590000   \n",
       "851263  2016-12-30    FTV   54.200001   53.630001   53.389999   54.480000   \n",
       "\n",
       "           volume  \n",
       "0       2163600.0  \n",
       "1       2386400.0  \n",
       "2       2489500.0  \n",
       "3       2006300.0  \n",
       "4       1408600.0  \n",
       "...           ...  \n",
       "851259   973800.0  \n",
       "851260  1938100.0  \n",
       "851261  1701200.0  \n",
       "851262  1380900.0  \n",
       "851263   705100.0  \n",
       "\n",
       "[851264 rows x 7 columns]"
      ]
     },
     "execution_count": 4,
     "metadata": {},
     "output_type": "execute_result"
    }
   ],
   "source": [
    "#importing Price Split Data\n",
    "data = pd.read_csv('prices-split-adjusted.csv')\n",
    "data"
   ]
  },
  {
   "cell_type": "code",
   "execution_count": 5,
   "metadata": {},
   "outputs": [
    {
     "data": {
      "text/plain": [
       "date      0\n",
       "symbol    0\n",
       "open      0\n",
       "close     0\n",
       "low       0\n",
       "high      0\n",
       "volume    0\n",
       "dtype: int64"
      ]
     },
     "execution_count": 5,
     "metadata": {},
     "output_type": "execute_result"
    }
   ],
   "source": [
    "#checking data for null values\n",
    "data.isnull().sum()"
   ]
  },
  {
   "cell_type": "markdown",
   "metadata": {},
   "source": [
    "# Data Preprocessing"
   ]
  },
  {
   "cell_type": "markdown",
   "metadata": {},
   "source": [
    "Creating Table for a specific Stock"
   ]
  },
  {
   "cell_type": "code",
   "execution_count": 6,
   "metadata": {},
   "outputs": [
    {
     "data": {
      "text/html": [
       "<div>\n",
       "<style scoped>\n",
       "    .dataframe tbody tr th:only-of-type {\n",
       "        vertical-align: middle;\n",
       "    }\n",
       "\n",
       "    .dataframe tbody tr th {\n",
       "        vertical-align: top;\n",
       "    }\n",
       "\n",
       "    .dataframe thead th {\n",
       "        text-align: right;\n",
       "    }\n",
       "</style>\n",
       "<table border=\"1\" class=\"dataframe\">\n",
       "  <thead>\n",
       "    <tr style=\"text-align: right;\">\n",
       "      <th></th>\n",
       "      <th>date</th>\n",
       "      <th>open</th>\n",
       "      <th>close</th>\n",
       "      <th>low</th>\n",
       "      <th>volume</th>\n",
       "      <th>high</th>\n",
       "    </tr>\n",
       "  </thead>\n",
       "  <tbody>\n",
       "    <tr>\n",
       "      <th>439</th>\n",
       "      <td>2010-01-04</td>\n",
       "      <td>312.304948</td>\n",
       "      <td>312.205308</td>\n",
       "      <td>310.955001</td>\n",
       "      <td>3927000.0</td>\n",
       "      <td>313.580158</td>\n",
       "    </tr>\n",
       "    <tr>\n",
       "      <th>907</th>\n",
       "      <td>2010-01-05</td>\n",
       "      <td>312.419511</td>\n",
       "      <td>310.830459</td>\n",
       "      <td>309.610028</td>\n",
       "      <td>6031900.0</td>\n",
       "      <td>312.748278</td>\n",
       "    </tr>\n",
       "    <tr>\n",
       "      <th>1375</th>\n",
       "      <td>2010-01-06</td>\n",
       "      <td>311.761979</td>\n",
       "      <td>302.994813</td>\n",
       "      <td>302.048370</td>\n",
       "      <td>7987100.0</td>\n",
       "      <td>311.761979</td>\n",
       "    </tr>\n",
       "    <tr>\n",
       "      <th>1843</th>\n",
       "      <td>2010-01-07</td>\n",
       "      <td>303.562685</td>\n",
       "      <td>295.941242</td>\n",
       "      <td>295.218951</td>\n",
       "      <td>12876600.0</td>\n",
       "      <td>303.861575</td>\n",
       "    </tr>\n",
       "    <tr>\n",
       "      <th>2311</th>\n",
       "      <td>2010-01-08</td>\n",
       "      <td>294.895159</td>\n",
       "      <td>299.886470</td>\n",
       "      <td>293.455551</td>\n",
       "      <td>9483900.0</td>\n",
       "      <td>300.499172</td>\n",
       "    </tr>\n",
       "    <tr>\n",
       "      <th>...</th>\n",
       "      <td>...</td>\n",
       "      <td>...</td>\n",
       "      <td>...</td>\n",
       "      <td>...</td>\n",
       "      <td>...</td>\n",
       "      <td>...</td>\n",
       "    </tr>\n",
       "    <tr>\n",
       "      <th>848963</th>\n",
       "      <td>2016-12-23</td>\n",
       "      <td>790.900024</td>\n",
       "      <td>789.909973</td>\n",
       "      <td>787.280029</td>\n",
       "      <td>623400.0</td>\n",
       "      <td>792.739990</td>\n",
       "    </tr>\n",
       "    <tr>\n",
       "      <th>849463</th>\n",
       "      <td>2016-12-27</td>\n",
       "      <td>790.679993</td>\n",
       "      <td>791.549988</td>\n",
       "      <td>787.656982</td>\n",
       "      <td>789100.0</td>\n",
       "      <td>797.859985</td>\n",
       "    </tr>\n",
       "    <tr>\n",
       "      <th>849963</th>\n",
       "      <td>2016-12-28</td>\n",
       "      <td>793.700012</td>\n",
       "      <td>785.049988</td>\n",
       "      <td>783.200012</td>\n",
       "      <td>1132700.0</td>\n",
       "      <td>794.229980</td>\n",
       "    </tr>\n",
       "    <tr>\n",
       "      <th>850463</th>\n",
       "      <td>2016-12-29</td>\n",
       "      <td>783.330017</td>\n",
       "      <td>782.789978</td>\n",
       "      <td>778.919983</td>\n",
       "      <td>742200.0</td>\n",
       "      <td>785.929993</td>\n",
       "    </tr>\n",
       "    <tr>\n",
       "      <th>850963</th>\n",
       "      <td>2016-12-30</td>\n",
       "      <td>782.750000</td>\n",
       "      <td>771.820007</td>\n",
       "      <td>770.409973</td>\n",
       "      <td>1760200.0</td>\n",
       "      <td>782.780029</td>\n",
       "    </tr>\n",
       "  </tbody>\n",
       "</table>\n",
       "<p>1762 rows × 6 columns</p>\n",
       "</div>"
      ],
      "text/plain": [
       "              date        open       close         low      volume        high\n",
       "439     2010-01-04  312.304948  312.205308  310.955001   3927000.0  313.580158\n",
       "907     2010-01-05  312.419511  310.830459  309.610028   6031900.0  312.748278\n",
       "1375    2010-01-06  311.761979  302.994813  302.048370   7987100.0  311.761979\n",
       "1843    2010-01-07  303.562685  295.941242  295.218951  12876600.0  303.861575\n",
       "2311    2010-01-08  294.895159  299.886470  293.455551   9483900.0  300.499172\n",
       "...            ...         ...         ...         ...         ...         ...\n",
       "848963  2016-12-23  790.900024  789.909973  787.280029    623400.0  792.739990\n",
       "849463  2016-12-27  790.679993  791.549988  787.656982    789100.0  797.859985\n",
       "849963  2016-12-28  793.700012  785.049988  783.200012   1132700.0  794.229980\n",
       "850463  2016-12-29  783.330017  782.789978  778.919983    742200.0  785.929993\n",
       "850963  2016-12-30  782.750000  771.820007  770.409973   1760200.0  782.780029\n",
       "\n",
       "[1762 rows x 6 columns]"
      ]
     },
     "execution_count": 6,
     "metadata": {},
     "output_type": "execute_result"
    }
   ],
   "source": [
    "#Initializing the Dataset for the Stock to be Analysized\n",
    "data = data.loc[(data['symbol'] == 'GOOG')]\n",
    "data = data.drop(columns=['symbol'])\n",
    "data = data[['date','open','close','low','volume','high']]\n",
    "data"
   ]
  },
  {
   "cell_type": "code",
   "execution_count": 7,
   "metadata": {},
   "outputs": [
    {
     "data": {
      "text/plain": [
       "(1762, 6)"
      ]
     },
     "execution_count": 7,
     "metadata": {},
     "output_type": "execute_result"
    }
   ],
   "source": [
    "#Number of rows and columns we are working with\n",
    "data.shape"
   ]
  },
  {
   "cell_type": "markdown",
   "metadata": {},
   "source": [
    "Ploting the closing price of the Stock"
   ]
  },
  {
   "cell_type": "code",
   "execution_count": 8,
   "metadata": {},
   "outputs": [
    {
     "data": {
      "image/png": "[encoded data removed]",
      "text/plain": [
       "<Figure size 1152x576 with 1 Axes>"
      ]
     },
     "metadata": {},
     "output_type": "display_data"
    }
   ],
   "source": [
    "plt.figure(figsize=(16,8))\n",
    "plt.title('Closing Price of the Stock Historically')\n",
    "plt.plot(data['close'])\n",
    "plt.xlabel('Year', fontsize=20)\n",
    "plt.ylabel('Closing Price Historically ($)', fontsize=20)\n",
    "plt.show()"
   ]
  },
  {
   "cell_type": "markdown",
   "metadata": {},
   "source": [
    "#### Here we can see that there is Long-Term growth in this stock."
   ]
  },
  {
   "cell_type": "markdown",
   "metadata": {},
   "source": [
    "# Preparing Data for LSTM"
   ]
  },
  {
   "cell_type": "markdown",
   "metadata": {},
   "source": [
    "Here we are going to use LSTM to more accurate prediction of the stock value change. We are checking for accuracy on a particular Stock.\n",
    "First we create a seperate dataframe only with \"Close\" cloumn"
   ]
  },
  {
   "cell_type": "code",
   "execution_count": 9,
   "metadata": {},
   "outputs": [
    {
     "data": {
      "text/plain": [
       "1410"
      ]
     },
     "execution_count": 9,
     "metadata": {},
     "output_type": "execute_result"
    }
   ],
   "source": [
    "#Getting the rows and columns we need\n",
    "data = data.filter(['close'])\n",
    "dataset = data.values\n",
    "\n",
    "#Find out the number of rows that are present in this dataset in order to train our model.\n",
    "training_data_len = math.ceil(len(dataset)* .8)\n",
    "training_data_len"
   ]
  },
  {
   "cell_type": "markdown",
   "metadata": {},
   "source": [
    "Scaling the Data to make better Predictions"
   ]
  },
  {
   "cell_type": "code",
   "execution_count": 10,
   "metadata": {
    "scrolled": true
   },
   "outputs": [
    {
     "data": {
      "text/plain": [
       "array([[0.15939908],\n",
       "       [0.15709185],\n",
       "       [0.14394234],\n",
       "       ...,\n",
       "       [0.95291068],\n",
       "       [0.94911801],\n",
       "       [0.93070859]])"
      ]
     },
     "execution_count": 10,
     "metadata": {},
     "output_type": "execute_result"
    }
   ],
   "source": [
    "scaler = MinMaxScaler(feature_range=(0,1))\n",
    "scaled_data = scaler.fit_transform(dataset)\n",
    "scaled_data"
   ]
  },
  {
   "cell_type": "code",
   "execution_count": 11,
   "metadata": {},
   "outputs": [
    {
     "name": "stdout",
     "output_type": "stream",
     "text": [
      "[array([0.15939908, 0.15709185, 0.14394234, 0.13210528, 0.13872603,\n",
      "       0.1379653 , 0.12907917, 0.12624527, 0.12855249, 0.12031836,\n",
      "       0.12668832, 0.12066114, 0.1228095 , 0.09524822, 0.08688037,\n",
      "       0.08890336, 0.08863587, 0.08210705, 0.07847068, 0.0810454 ,\n",
      "       0.07945711, 0.08756581, 0.07582908, 0.07959922, 0.08142161,\n",
      "       0.0839044 , 0.08224082, 0.08387095, 0.08112903, 0.08796707,\n",
      "       0.08538401, 0.08957211, 0.08751567, 0.08922104, 0.08275911,\n",
      "       0.07974969, 0.0755365 , 0.07584583, 0.08076956, 0.08776647,\n",
      "       0.09132761, 0.0990769 , 0.10711872, 0.10567255, 0.10375818,\n",
      "       0.11735074, 0.12127135, 0.11993385, 0.10625771, 0.10794633,\n",
      "       0.10824726, 0.10894945, 0.10359937, 0.10150949, 0.09440391,\n",
      "       0.10136737, 0.10600692, 0.10584811, 0.10564745, 0.10920859])]\n",
      "[0.10955136446292446]\n",
      "\n"
     ]
    }
   ],
   "source": [
    "#Creating a train test datasets\n",
    "train_data = scaled_data[0:training_data_len , :]\n",
    "x_train = []\n",
    "y_train = []\n",
    "\n",
    "for j in range(60, len(train_data)):\n",
    "    x_train.append(train_data[j-60:j,0])\n",
    "    y_train.append(train_data[j,0])\n",
    "    if j<=60:\n",
    "        print(x_train)\n",
    "        print(y_train)\n",
    "        print()"
   ]
  },
  {
   "cell_type": "code",
   "execution_count": 12,
   "metadata": {},
   "outputs": [],
   "source": [
    "\n",
    "x_train, y_train = np.array(x_train), np.array(y_train)\n",
    "\n"
   ]
  },
  {
   "cell_type": "code",
   "execution_count": 13,
   "metadata": {},
   "outputs": [
    {
     "data": {
      "text/plain": [
       "(1350, 60, 1)"
      ]
     },
     "execution_count": 13,
     "metadata": {},
     "output_type": "execute_result"
    }
   ],
   "source": [
    "x_train = np.reshape(x_train, (x_train.shape[0], x_train.shape[1], 1))\n",
    "x_train.shape"
   ]
  },
  {
   "cell_type": "markdown",
   "metadata": {},
   "source": [
    "# Building LSTM Model"
   ]
  },
  {
   "cell_type": "code",
   "execution_count": 14,
   "metadata": {},
   "outputs": [],
   "source": [
    "model = Sequential()\n",
    "model.add(LSTM(50, return_sequences=True, input_shape = (x_train.shape[1], 1)))\n",
    "model.add(LSTM(50, return_sequences=False))\n",
    "model.add(Dense(25))\n",
    "model.add(Dense(1))"
   ]
  },
  {
   "cell_type": "code",
   "execution_count": 15,
   "metadata": {},
   "outputs": [],
   "source": [
    "model.compile(optimizer='adam', loss='mean_squared_error')\n",
    "\n"
   ]
  },
  {
   "cell_type": "markdown",
   "metadata": {},
   "source": [
    "##### Training the Model"
   ]
  },
  {
   "cell_type": "code",
   "execution_count": 16,
   "metadata": {},
   "outputs": [
    {
     "name": "stdout",
     "output_type": "stream",
     "text": [
      "1350/1350 [==============================] - 36s 25ms/step - loss: 0.0025\n"
     ]
    },
    {
     "data": {
      "text/plain": [
       "<tensorflow.python.keras.callbacks.History at 0x7ff2ba41f760>"
      ]
     },
     "execution_count": 16,
     "metadata": {},
     "output_type": "execute_result"
    }
   ],
   "source": [
    "model.fit(x_train, y_train, batch_size=1, epochs=1)"
   ]
  },
  {
   "cell_type": "code",
   "execution_count": 17,
   "metadata": {},
   "outputs": [],
   "source": [
    "test_data = scaled_data[training_data_len - 60: , :]\n",
    "x_test = []\n",
    "y_test = dataset[training_data_len:, :]\n",
    "\n",
    "for j in range(60, len(test_data)):\n",
    "    x_test.append(test_data[j-60:j, 0])\n",
    "    "
   ]
  },
  {
   "cell_type": "code",
   "execution_count": 18,
   "metadata": {},
   "outputs": [],
   "source": [
    "x_test = np.array(x_test)"
   ]
  },
  {
   "cell_type": "code",
   "execution_count": 19,
   "metadata": {},
   "outputs": [],
   "source": [
    "x_test = np.reshape(x_test, (x_test.shape[0], x_test.shape[1], 1))"
   ]
  },
  {
   "cell_type": "code",
   "execution_count": 20,
   "metadata": {},
   "outputs": [],
   "source": [
    "predictions = model.predict(x_test)\n",
    "predictions = scaler.inverse_transform(predictions)\n",
    "\n"
   ]
  },
  {
   "cell_type": "code",
   "execution_count": 21,
   "metadata": {},
   "outputs": [
    {
     "data": {
      "text/plain": [
       "4.413406198453035"
      ]
     },
     "execution_count": 21,
     "metadata": {},
     "output_type": "execute_result"
    }
   ],
   "source": [
    "#Finding the Root Mean Squared Error for the Stock\n",
    "rmse = np.sqrt( np.mean( predictions - y_test)**2)\n",
    "rmse"
   ]
  },
  {
   "cell_type": "markdown",
   "metadata": {},
   "source": [
    "# Visualization"
   ]
  },
  {
   "cell_type": "markdown",
   "metadata": {},
   "source": [
    "### Plotting Acutal Close values vs Predicted Values in LR Model"
   ]
  },
  {
   "cell_type": "code",
   "execution_count": 22,
   "metadata": {},
   "outputs": [
    {
     "name": "stderr",
     "output_type": "stream",
     "text": [
      "<ipython-input-22-ae9cabdc9c7d>:4: SettingWithCopyWarning: \n",
      "A value is trying to be set on a copy of a slice from a DataFrame.\n",
      "Try using .loc[row_indexer,col_indexer] = value instead\n",
      "\n",
      "See the caveats in the documentation: https://pandas.pydata.org/pandas-docs/stable/user_guide/indexing.html#returning-a-view-versus-a-copy\n",
      "  val['Predictions'] = predictions\n"
     ]
    },
    {
     "data": {
      "image/png": "[encoded data removed]",
      "text/plain": [
       "<Figure size 1152x576 with 1 Axes>"
      ]
     },
     "metadata": {},
     "output_type": "display_data"
    }
   ],
   "source": [
    "#builing close value and prediction value table for comparison\n",
    "train = data[:training_data_len]\n",
    "val = data[training_data_len:]\n",
    "val['Predictions'] = predictions\n",
    "\n",
    "plt.figure(figsize=(16,8))\n",
    "plt.title('LSTM Model Data')\n",
    "plt.xlabel('Date', fontsize=16)\n",
    "plt.ylabel('Close Price', fontsize=16)\n",
    "plt.plot(train['close'])\n",
    "plt.plot(val[['close', 'Predictions']])\n",
    "plt.legend(['Trained Dataset', 'Actual Value', 'Predictions'])\n",
    "plt.show()"
   ]
  },
  {
   "cell_type": "markdown",
   "metadata": {},
   "source": [
    "# Evaluation of the model"
   ]
  },
  {
   "cell_type": "markdown",
   "metadata": {},
   "source": [
    "Making table for Actual price and Predicted Price"
   ]
  },
  {
   "cell_type": "code",
   "execution_count": 23,
   "metadata": {},
   "outputs": [
    {
     "data": {
      "text/html": [
       "<div>\n",
       "<style scoped>\n",
       "    .dataframe tbody tr th:only-of-type {\n",
       "        vertical-align: middle;\n",
       "    }\n",
       "\n",
       "    .dataframe tbody tr th {\n",
       "        vertical-align: top;\n",
       "    }\n",
       "\n",
       "    .dataframe thead th {\n",
       "        text-align: right;\n",
       "    }\n",
       "</style>\n",
       "<table border=\"1\" class=\"dataframe\">\n",
       "  <thead>\n",
       "    <tr style=\"text-align: right;\">\n",
       "      <th></th>\n",
       "      <th>close</th>\n",
       "      <th>Predictions</th>\n",
       "    </tr>\n",
       "  </thead>\n",
       "  <tbody>\n",
       "    <tr>\n",
       "      <th>675804</th>\n",
       "      <td>660.780029</td>\n",
       "      <td>646.802551</td>\n",
       "    </tr>\n",
       "    <tr>\n",
       "      <th>676301</th>\n",
       "      <td>659.559998</td>\n",
       "      <td>650.095703</td>\n",
       "    </tr>\n",
       "    <tr>\n",
       "      <th>676798</th>\n",
       "      <td>656.450012</td>\n",
       "      <td>654.045166</td>\n",
       "    </tr>\n",
       "    <tr>\n",
       "      <th>677295</th>\n",
       "      <td>657.119995</td>\n",
       "      <td>657.478027</td>\n",
       "    </tr>\n",
       "    <tr>\n",
       "      <th>677792</th>\n",
       "      <td>660.869995</td>\n",
       "      <td>660.348755</td>\n",
       "    </tr>\n",
       "    <tr>\n",
       "      <th>...</th>\n",
       "      <td>...</td>\n",
       "      <td>...</td>\n",
       "    </tr>\n",
       "    <tr>\n",
       "      <th>848963</th>\n",
       "      <td>789.909973</td>\n",
       "      <td>793.180847</td>\n",
       "    </tr>\n",
       "    <tr>\n",
       "      <th>849463</th>\n",
       "      <td>791.549988</td>\n",
       "      <td>792.841431</td>\n",
       "    </tr>\n",
       "    <tr>\n",
       "      <th>849963</th>\n",
       "      <td>785.049988</td>\n",
       "      <td>792.549194</td>\n",
       "    </tr>\n",
       "    <tr>\n",
       "      <th>850463</th>\n",
       "      <td>782.789978</td>\n",
       "      <td>791.542480</td>\n",
       "    </tr>\n",
       "    <tr>\n",
       "      <th>850963</th>\n",
       "      <td>771.820007</td>\n",
       "      <td>790.133545</td>\n",
       "    </tr>\n",
       "  </tbody>\n",
       "</table>\n",
       "<p>352 rows × 2 columns</p>\n",
       "</div>"
      ],
      "text/plain": [
       "             close  Predictions\n",
       "675804  660.780029   646.802551\n",
       "676301  659.559998   650.095703\n",
       "676798  656.450012   654.045166\n",
       "677295  657.119995   657.478027\n",
       "677792  660.869995   660.348755\n",
       "...            ...          ...\n",
       "848963  789.909973   793.180847\n",
       "849463  791.549988   792.841431\n",
       "849963  785.049988   792.549194\n",
       "850463  782.789978   791.542480\n",
       "850963  771.820007   790.133545\n",
       "\n",
       "[352 rows x 2 columns]"
      ]
     },
     "execution_count": 23,
     "metadata": {},
     "output_type": "execute_result"
    }
   ],
   "source": [
    "#actual close values against predictions\n",
    "val"
   ]
  },
  {
   "cell_type": "code",
   "execution_count": 24,
   "metadata": {},
   "outputs": [
    {
     "name": "stdout",
     "output_type": "stream",
     "text": [
      "The predicted price of the final value of the dataset [[787.44696]]\n"
     ]
    }
   ],
   "source": [
    "new_data = pd.read_csv('prices-split-adjusted.csv')\n",
    "new_data = data.filter(['close'])\n",
    "last_60_days = new_data[-60:].values\n",
    "last_60_scaled = scaler.transform(last_60_days)\n",
    "X_test = []\n",
    "X_test.append(last_60_scaled)\n",
    "X_test = np.array(X_test)\n",
    "X_test = np.reshape(X_test, (X_test.shape[0], X_test.shape[1], 1))\n",
    "predicted_price = model.predict(X_test)\n",
    "predicted_price = scaler.inverse_transform(predicted_price)\n",
    "print('The predicted price of the final value of the dataset', predicted_price)"
   ]
  },
  {
   "cell_type": "code",
   "execution_count": 25,
   "metadata": {},
   "outputs": [
    {
     "data": {
      "text/html": [
       "<div>\n",
       "<style scoped>\n",
       "    .dataframe tbody tr th:only-of-type {\n",
       "        vertical-align: middle;\n",
       "    }\n",
       "\n",
       "    .dataframe tbody tr th {\n",
       "        vertical-align: top;\n",
       "    }\n",
       "\n",
       "    .dataframe thead th {\n",
       "        text-align: right;\n",
       "    }\n",
       "</style>\n",
       "<table border=\"1\" class=\"dataframe\">\n",
       "  <thead>\n",
       "    <tr style=\"text-align: right;\">\n",
       "      <th></th>\n",
       "      <th>close</th>\n",
       "    </tr>\n",
       "  </thead>\n",
       "  <tbody>\n",
       "    <tr>\n",
       "      <th>850963</th>\n",
       "      <td>771.820007</td>\n",
       "    </tr>\n",
       "  </tbody>\n",
       "</table>\n",
       "</div>"
      ],
      "text/plain": [
       "             close\n",
       "850963  771.820007"
      ]
     },
     "execution_count": 25,
     "metadata": {},
     "output_type": "execute_result"
    }
   ],
   "source": [
    "new_data.tail(1)"
   ]
  },
  {
   "cell_type": "markdown",
   "metadata": {},
   "source": [
    "#### The predicted price is USD 122.0, whereas the actual observed value is USD 115.82"
   ]
  },
  {
   "cell_type": "code",
   "execution_count": 26,
   "metadata": {},
   "outputs": [
    {
     "data": {
      "text/plain": [
       "16.732675169289255"
      ]
     },
     "execution_count": 26,
     "metadata": {},
     "output_type": "execute_result"
    }
   ],
   "source": [
    "#check predicted values\n",
    "predictions = model.predict(x_test) \n",
    "#Undo scaling\n",
    "predictions = scaler.inverse_transform(predictions)\n",
    "\n",
    "#Calculate RMSE score\n",
    "rmse=np.sqrt(np.mean(((predictions- y_test)**2)))\n",
    "rmse"
   ]
  },
  {
   "cell_type": "code",
   "execution_count": 27,
   "metadata": {},
   "outputs": [],
   "source": [
    "neww_data = pd.read_csv('prices-split-adjusted.csv')"
   ]
  },
  {
   "cell_type": "code",
   "execution_count": 28,
   "metadata": {},
   "outputs": [
    {
     "data": {
      "text/html": [
       "<div>\n",
       "<style scoped>\n",
       "    .dataframe tbody tr th:only-of-type {\n",
       "        vertical-align: middle;\n",
       "    }\n",
       "\n",
       "    .dataframe tbody tr th {\n",
       "        vertical-align: top;\n",
       "    }\n",
       "\n",
       "    .dataframe thead th {\n",
       "        text-align: right;\n",
       "    }\n",
       "</style>\n",
       "<table border=\"1\" class=\"dataframe\">\n",
       "  <thead>\n",
       "    <tr style=\"text-align: right;\">\n",
       "      <th></th>\n",
       "      <th>close</th>\n",
       "      <th>Predictions</th>\n",
       "    </tr>\n",
       "  </thead>\n",
       "  <tbody>\n",
       "    <tr>\n",
       "      <th>count</th>\n",
       "      <td>352.000000</td>\n",
       "      <td>352.000000</td>\n",
       "    </tr>\n",
       "    <tr>\n",
       "      <th>mean</th>\n",
       "      <td>726.754374</td>\n",
       "      <td>731.167786</td>\n",
       "    </tr>\n",
       "    <tr>\n",
       "      <th>std</th>\n",
       "      <td>50.198486</td>\n",
       "      <td>45.709660</td>\n",
       "    </tr>\n",
       "    <tr>\n",
       "      <th>min</th>\n",
       "      <td>582.059998</td>\n",
       "      <td>623.806091</td>\n",
       "    </tr>\n",
       "    <tr>\n",
       "      <th>25%</th>\n",
       "      <td>700.822479</td>\n",
       "      <td>711.903946</td>\n",
       "    </tr>\n",
       "    <tr>\n",
       "      <th>50%</th>\n",
       "      <td>735.899994</td>\n",
       "      <td>737.392517</td>\n",
       "    </tr>\n",
       "    <tr>\n",
       "      <th>75%</th>\n",
       "      <td>768.377518</td>\n",
       "      <td>768.061523</td>\n",
       "    </tr>\n",
       "    <tr>\n",
       "      <th>max</th>\n",
       "      <td>813.109985</td>\n",
       "      <td>799.469116</td>\n",
       "    </tr>\n",
       "  </tbody>\n",
       "</table>\n",
       "</div>"
      ],
      "text/plain": [
       "            close  Predictions\n",
       "count  352.000000   352.000000\n",
       "mean   726.754374   731.167786\n",
       "std     50.198486    45.709660\n",
       "min    582.059998   623.806091\n",
       "25%    700.822479   711.903946\n",
       "50%    735.899994   737.392517\n",
       "75%    768.377518   768.061523\n",
       "max    813.109985   799.469116"
      ]
     },
     "execution_count": 28,
     "metadata": {},
     "output_type": "execute_result"
    }
   ],
   "source": [
    "val.describe()"
   ]
  },
  {
   "cell_type": "code",
   "execution_count": 29,
   "metadata": {},
   "outputs": [
    {
     "name": "stdout",
     "output_type": "stream",
     "text": [
      "The accuracy of the model is  99.39638872040469\n"
     ]
    }
   ],
   "source": [
    "x = val.close.mean()\n",
    "y = val.Predictions.mean()\n",
    "Accuracy = x/y*100\n",
    "print(\"The accuracy of the model is \" , Accuracy)"
   ]
  },
  {
   "cell_type": "markdown",
   "metadata": {},
   "source": [
    "The LSTM model Accuracy is 99.39%\n",
    "As we can see the predictions made by LSTM model show a greater accuracy than LR model. So we can finally conclude that the stock is going to grow for long-term."
   ]
  },
  {
   "cell_type": "code",
   "execution_count": null,
   "metadata": {},
   "outputs": [],
   "source": []
  },
  {
   "cell_type": "code",
   "execution_count": null,
   "metadata": {},
   "outputs": [],
   "source": []
  },
  {
   "cell_type": "code",
   "execution_count": null,
   "metadata": {},
   "outputs": [],
   "source": []
  },
  {
   "cell_type": "code",
   "execution_count": null,
   "metadata": {},
   "outputs": [],
   "source": []
  }
 ],
 "metadata": {
  "kernelspec": {
   "display_name": "Python 3",
   "language": "python",
   "name": "python3"
  },
  "language_info": {
   "codemirror_mode": {
    "name": "ipython",
    "version": 3
   },
   "file_extension": ".py",
   "mimetype": "text/x-python",
   "name": "python",
   "nbconvert_exporter": "python",
   "pygments_lexer": "ipython3",
   "version": "3.8.8"
  }
 },
 "nbformat": 4,
 "nbformat_minor": 4
}

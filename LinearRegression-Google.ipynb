{
 "cells": [
  {
   "cell_type": "markdown",
   "id": "0284b566",
   "metadata": {},
   "source": [
    "## In this notebook we are going to Predict the Growth of Google Stock using Linear Regression Model and CRISP-DM."
   ]
  },
  {
   "cell_type": "code",
   "execution_count": 1,
   "id": "4dbb9a28",
   "metadata": {},
   "outputs": [],
   "source": [
    "#importing the libraries\n",
    "import numpy as np\n",
    "import pandas as pd\n",
    "from sklearn import metrics\n",
    "%matplotlib inline\n",
    "import matplotlib.pyplot as plt\n",
    "import math\n",
    "from sklearn.linear_model import LinearRegression\n",
    "from sklearn.model_selection import train_test_split\n"
   ]
  },
  {
   "cell_type": "markdown",
   "id": "bc559829",
   "metadata": {},
   "source": [
    "# Data Understanding"
   ]
  },
  {
   "cell_type": "markdown",
   "id": "8aa849a4",
   "metadata": {},
   "source": [
    "The data is already processed to price-split values so it is easy to analysis but we are creating new tables to optimize our model"
   ]
  },
  {
   "cell_type": "code",
   "execution_count": 2,
   "id": "fe39de20",
   "metadata": {},
   "outputs": [],
   "source": [
    "#importing Price Split Data\n",
    "data = pd.read_csv('prices-split-adjusted.csv')"
   ]
  },
  {
   "cell_type": "code",
   "execution_count": 3,
   "id": "dc8a73a3",
   "metadata": {},
   "outputs": [
    {
     "data": {
      "text/html": [
       "<div>\n",
       "<style scoped>\n",
       "    .dataframe tbody tr th:only-of-type {\n",
       "        vertical-align: middle;\n",
       "    }\n",
       "\n",
       "    .dataframe tbody tr th {\n",
       "        vertical-align: top;\n",
       "    }\n",
       "\n",
       "    .dataframe thead th {\n",
       "        text-align: right;\n",
       "    }\n",
       "</style>\n",
       "<table border=\"1\" class=\"dataframe\">\n",
       "  <thead>\n",
       "    <tr style=\"text-align: right;\">\n",
       "      <th></th>\n",
       "      <th>date</th>\n",
       "      <th>symbol</th>\n",
       "      <th>open</th>\n",
       "      <th>close</th>\n",
       "      <th>low</th>\n",
       "      <th>high</th>\n",
       "      <th>volume</th>\n",
       "    </tr>\n",
       "  </thead>\n",
       "  <tbody>\n",
       "    <tr>\n",
       "      <th>0</th>\n",
       "      <td>2016-01-05</td>\n",
       "      <td>WLTW</td>\n",
       "      <td>123.430000</td>\n",
       "      <td>125.839996</td>\n",
       "      <td>122.309998</td>\n",
       "      <td>126.250000</td>\n",
       "      <td>2163600.0</td>\n",
       "    </tr>\n",
       "    <tr>\n",
       "      <th>1</th>\n",
       "      <td>2016-01-06</td>\n",
       "      <td>WLTW</td>\n",
       "      <td>125.239998</td>\n",
       "      <td>119.980003</td>\n",
       "      <td>119.940002</td>\n",
       "      <td>125.540001</td>\n",
       "      <td>2386400.0</td>\n",
       "    </tr>\n",
       "    <tr>\n",
       "      <th>2</th>\n",
       "      <td>2016-01-07</td>\n",
       "      <td>WLTW</td>\n",
       "      <td>116.379997</td>\n",
       "      <td>114.949997</td>\n",
       "      <td>114.930000</td>\n",
       "      <td>119.739998</td>\n",
       "      <td>2489500.0</td>\n",
       "    </tr>\n",
       "    <tr>\n",
       "      <th>3</th>\n",
       "      <td>2016-01-08</td>\n",
       "      <td>WLTW</td>\n",
       "      <td>115.480003</td>\n",
       "      <td>116.620003</td>\n",
       "      <td>113.500000</td>\n",
       "      <td>117.440002</td>\n",
       "      <td>2006300.0</td>\n",
       "    </tr>\n",
       "    <tr>\n",
       "      <th>4</th>\n",
       "      <td>2016-01-11</td>\n",
       "      <td>WLTW</td>\n",
       "      <td>117.010002</td>\n",
       "      <td>114.970001</td>\n",
       "      <td>114.089996</td>\n",
       "      <td>117.330002</td>\n",
       "      <td>1408600.0</td>\n",
       "    </tr>\n",
       "    <tr>\n",
       "      <th>...</th>\n",
       "      <td>...</td>\n",
       "      <td>...</td>\n",
       "      <td>...</td>\n",
       "      <td>...</td>\n",
       "      <td>...</td>\n",
       "      <td>...</td>\n",
       "      <td>...</td>\n",
       "    </tr>\n",
       "    <tr>\n",
       "      <th>851259</th>\n",
       "      <td>2016-12-30</td>\n",
       "      <td>ZBH</td>\n",
       "      <td>103.309998</td>\n",
       "      <td>103.199997</td>\n",
       "      <td>102.849998</td>\n",
       "      <td>103.930000</td>\n",
       "      <td>973800.0</td>\n",
       "    </tr>\n",
       "    <tr>\n",
       "      <th>851260</th>\n",
       "      <td>2016-12-30</td>\n",
       "      <td>ZION</td>\n",
       "      <td>43.070000</td>\n",
       "      <td>43.040001</td>\n",
       "      <td>42.689999</td>\n",
       "      <td>43.310001</td>\n",
       "      <td>1938100.0</td>\n",
       "    </tr>\n",
       "    <tr>\n",
       "      <th>851261</th>\n",
       "      <td>2016-12-30</td>\n",
       "      <td>ZTS</td>\n",
       "      <td>53.639999</td>\n",
       "      <td>53.529999</td>\n",
       "      <td>53.270000</td>\n",
       "      <td>53.740002</td>\n",
       "      <td>1701200.0</td>\n",
       "    </tr>\n",
       "    <tr>\n",
       "      <th>851262</th>\n",
       "      <td>2016-12-30</td>\n",
       "      <td>AIV</td>\n",
       "      <td>44.730000</td>\n",
       "      <td>45.450001</td>\n",
       "      <td>44.410000</td>\n",
       "      <td>45.590000</td>\n",
       "      <td>1380900.0</td>\n",
       "    </tr>\n",
       "    <tr>\n",
       "      <th>851263</th>\n",
       "      <td>2016-12-30</td>\n",
       "      <td>FTV</td>\n",
       "      <td>54.200001</td>\n",
       "      <td>53.630001</td>\n",
       "      <td>53.389999</td>\n",
       "      <td>54.480000</td>\n",
       "      <td>705100.0</td>\n",
       "    </tr>\n",
       "  </tbody>\n",
       "</table>\n",
       "<p>851264 rows × 7 columns</p>\n",
       "</div>"
      ],
      "text/plain": [
       "              date symbol        open       close         low        high  \\\n",
       "0       2016-01-05   WLTW  123.430000  125.839996  122.309998  126.250000   \n",
       "1       2016-01-06   WLTW  125.239998  119.980003  119.940002  125.540001   \n",
       "2       2016-01-07   WLTW  116.379997  114.949997  114.930000  119.739998   \n",
       "3       2016-01-08   WLTW  115.480003  116.620003  113.500000  117.440002   \n",
       "4       2016-01-11   WLTW  117.010002  114.970001  114.089996  117.330002   \n",
       "...            ...    ...         ...         ...         ...         ...   \n",
       "851259  2016-12-30    ZBH  103.309998  103.199997  102.849998  103.930000   \n",
       "851260  2016-12-30   ZION   43.070000   43.040001   42.689999   43.310001   \n",
       "851261  2016-12-30    ZTS   53.639999   53.529999   53.270000   53.740002   \n",
       "851262  2016-12-30    AIV   44.730000   45.450001   44.410000   45.590000   \n",
       "851263  2016-12-30    FTV   54.200001   53.630001   53.389999   54.480000   \n",
       "\n",
       "           volume  \n",
       "0       2163600.0  \n",
       "1       2386400.0  \n",
       "2       2489500.0  \n",
       "3       2006300.0  \n",
       "4       1408600.0  \n",
       "...           ...  \n",
       "851259   973800.0  \n",
       "851260  1938100.0  \n",
       "851261  1701200.0  \n",
       "851262  1380900.0  \n",
       "851263   705100.0  \n",
       "\n",
       "[851264 rows x 7 columns]"
      ]
     },
     "execution_count": 3,
     "metadata": {},
     "output_type": "execute_result"
    }
   ],
   "source": [
    "data"
   ]
  },
  {
   "cell_type": "code",
   "execution_count": 4,
   "id": "4801261f",
   "metadata": {},
   "outputs": [
    {
     "data": {
      "text/plain": [
       "date      0\n",
       "symbol    0\n",
       "open      0\n",
       "close     0\n",
       "low       0\n",
       "high      0\n",
       "volume    0\n",
       "dtype: int64"
      ]
     },
     "execution_count": 4,
     "metadata": {},
     "output_type": "execute_result"
    }
   ],
   "source": [
    "#checking data for null values\n",
    "data.isnull().sum()"
   ]
  },
  {
   "cell_type": "markdown",
   "id": "e9f48dc4",
   "metadata": {},
   "source": [
    "#### There are no null values in the Data table we are going to create"
   ]
  },
  {
   "cell_type": "markdown",
   "id": "77f00244",
   "metadata": {},
   "source": [
    "# Data Preprocessing"
   ]
  },
  {
   "cell_type": "markdown",
   "id": "8042c58e",
   "metadata": {},
   "source": [
    "Creating Table for a specific Stock"
   ]
  },
  {
   "cell_type": "code",
   "execution_count": 5,
   "id": "864872fc",
   "metadata": {},
   "outputs": [
    {
     "data": {
      "text/html": [
       "<div>\n",
       "<style scoped>\n",
       "    .dataframe tbody tr th:only-of-type {\n",
       "        vertical-align: middle;\n",
       "    }\n",
       "\n",
       "    .dataframe tbody tr th {\n",
       "        vertical-align: top;\n",
       "    }\n",
       "\n",
       "    .dataframe thead th {\n",
       "        text-align: right;\n",
       "    }\n",
       "</style>\n",
       "<table border=\"1\" class=\"dataframe\">\n",
       "  <thead>\n",
       "    <tr style=\"text-align: right;\">\n",
       "      <th></th>\n",
       "      <th>date</th>\n",
       "      <th>open</th>\n",
       "      <th>close</th>\n",
       "      <th>low</th>\n",
       "      <th>volume</th>\n",
       "      <th>high</th>\n",
       "    </tr>\n",
       "  </thead>\n",
       "  <tbody>\n",
       "    <tr>\n",
       "      <th>439</th>\n",
       "      <td>2010-01-04</td>\n",
       "      <td>312.304948</td>\n",
       "      <td>312.205308</td>\n",
       "      <td>310.955001</td>\n",
       "      <td>3927000.0</td>\n",
       "      <td>313.580158</td>\n",
       "    </tr>\n",
       "    <tr>\n",
       "      <th>907</th>\n",
       "      <td>2010-01-05</td>\n",
       "      <td>312.419511</td>\n",
       "      <td>310.830459</td>\n",
       "      <td>309.610028</td>\n",
       "      <td>6031900.0</td>\n",
       "      <td>312.748278</td>\n",
       "    </tr>\n",
       "    <tr>\n",
       "      <th>1375</th>\n",
       "      <td>2010-01-06</td>\n",
       "      <td>311.761979</td>\n",
       "      <td>302.994813</td>\n",
       "      <td>302.048370</td>\n",
       "      <td>7987100.0</td>\n",
       "      <td>311.761979</td>\n",
       "    </tr>\n",
       "    <tr>\n",
       "      <th>1843</th>\n",
       "      <td>2010-01-07</td>\n",
       "      <td>303.562685</td>\n",
       "      <td>295.941242</td>\n",
       "      <td>295.218951</td>\n",
       "      <td>12876600.0</td>\n",
       "      <td>303.861575</td>\n",
       "    </tr>\n",
       "    <tr>\n",
       "      <th>2311</th>\n",
       "      <td>2010-01-08</td>\n",
       "      <td>294.895159</td>\n",
       "      <td>299.886470</td>\n",
       "      <td>293.455551</td>\n",
       "      <td>9483900.0</td>\n",
       "      <td>300.499172</td>\n",
       "    </tr>\n",
       "    <tr>\n",
       "      <th>...</th>\n",
       "      <td>...</td>\n",
       "      <td>...</td>\n",
       "      <td>...</td>\n",
       "      <td>...</td>\n",
       "      <td>...</td>\n",
       "      <td>...</td>\n",
       "    </tr>\n",
       "    <tr>\n",
       "      <th>848963</th>\n",
       "      <td>2016-12-23</td>\n",
       "      <td>790.900024</td>\n",
       "      <td>789.909973</td>\n",
       "      <td>787.280029</td>\n",
       "      <td>623400.0</td>\n",
       "      <td>792.739990</td>\n",
       "    </tr>\n",
       "    <tr>\n",
       "      <th>849463</th>\n",
       "      <td>2016-12-27</td>\n",
       "      <td>790.679993</td>\n",
       "      <td>791.549988</td>\n",
       "      <td>787.656982</td>\n",
       "      <td>789100.0</td>\n",
       "      <td>797.859985</td>\n",
       "    </tr>\n",
       "    <tr>\n",
       "      <th>849963</th>\n",
       "      <td>2016-12-28</td>\n",
       "      <td>793.700012</td>\n",
       "      <td>785.049988</td>\n",
       "      <td>783.200012</td>\n",
       "      <td>1132700.0</td>\n",
       "      <td>794.229980</td>\n",
       "    </tr>\n",
       "    <tr>\n",
       "      <th>850463</th>\n",
       "      <td>2016-12-29</td>\n",
       "      <td>783.330017</td>\n",
       "      <td>782.789978</td>\n",
       "      <td>778.919983</td>\n",
       "      <td>742200.0</td>\n",
       "      <td>785.929993</td>\n",
       "    </tr>\n",
       "    <tr>\n",
       "      <th>850963</th>\n",
       "      <td>2016-12-30</td>\n",
       "      <td>782.750000</td>\n",
       "      <td>771.820007</td>\n",
       "      <td>770.409973</td>\n",
       "      <td>1760200.0</td>\n",
       "      <td>782.780029</td>\n",
       "    </tr>\n",
       "  </tbody>\n",
       "</table>\n",
       "<p>1762 rows × 6 columns</p>\n",
       "</div>"
      ],
      "text/plain": [
       "              date        open       close         low      volume        high\n",
       "439     2010-01-04  312.304948  312.205308  310.955001   3927000.0  313.580158\n",
       "907     2010-01-05  312.419511  310.830459  309.610028   6031900.0  312.748278\n",
       "1375    2010-01-06  311.761979  302.994813  302.048370   7987100.0  311.761979\n",
       "1843    2010-01-07  303.562685  295.941242  295.218951  12876600.0  303.861575\n",
       "2311    2010-01-08  294.895159  299.886470  293.455551   9483900.0  300.499172\n",
       "...            ...         ...         ...         ...         ...         ...\n",
       "848963  2016-12-23  790.900024  789.909973  787.280029    623400.0  792.739990\n",
       "849463  2016-12-27  790.679993  791.549988  787.656982    789100.0  797.859985\n",
       "849963  2016-12-28  793.700012  785.049988  783.200012   1132700.0  794.229980\n",
       "850463  2016-12-29  783.330017  782.789978  778.919983    742200.0  785.929993\n",
       "850963  2016-12-30  782.750000  771.820007  770.409973   1760200.0  782.780029\n",
       "\n",
       "[1762 rows x 6 columns]"
      ]
     },
     "execution_count": 5,
     "metadata": {},
     "output_type": "execute_result"
    }
   ],
   "source": [
    "#Initializing the Dataset for the Stock to be Analysized\n",
    "data = data.loc[(data['symbol'] == 'GOOG')]\n",
    "data = data.drop(columns=['symbol'])\n",
    "data = data[['date', 'open', 'close', 'low', 'volume', 'high']]\n",
    "data"
   ]
  },
  {
   "cell_type": "code",
   "execution_count": 6,
   "id": "6e7f3330",
   "metadata": {},
   "outputs": [
    {
     "data": {
      "text/plain": [
       "(1762, 6)"
      ]
     },
     "execution_count": 6,
     "metadata": {},
     "output_type": "execute_result"
    }
   ],
   "source": [
    "#Number of rows and columns we are working with\n",
    "data.shape"
   ]
  },
  {
   "cell_type": "markdown",
   "id": "71f4ec86",
   "metadata": {},
   "source": [
    "Ploting the closing price of the Stock"
   ]
  },
  {
   "cell_type": "code",
   "execution_count": 7,
   "id": "4c651299",
   "metadata": {},
   "outputs": [
    {
     "data": {
      "image/png": "[encoded data removed]",
      "text/plain": [
       "<Figure size 432x288 with 1 Axes>"
      ]
     },
     "metadata": {
      "needs_background": "light"
     },
     "output_type": "display_data"
    }
   ],
   "source": [
    "plt.scatter(data.date, data.close, color='blue')\n",
    "plt.xlabel(\"Time\")\n",
    "plt.ylabel(\"Close\")\n",
    "plt.show()"
   ]
  },
  {
   "cell_type": "markdown",
   "id": "12d72422",
   "metadata": {},
   "source": [
    "### Here we can see that the Stock is growing in Long-Term with multiple medium downfalls \n",
    "So it is good for Long-term investing"
   ]
  },
  {
   "cell_type": "code",
   "execution_count": 8,
   "id": "73fd675b",
   "metadata": {},
   "outputs": [],
   "source": [
    "#For plotting against time\n",
    "data['date'] = pd.to_datetime(data.date)"
   ]
  },
  {
   "cell_type": "code",
   "execution_count": 9,
   "id": "f3aa842c",
   "metadata": {},
   "outputs": [
    {
     "data": {
      "text/plain": [
       "<AxesSubplot:>"
      ]
     },
     "execution_count": 9,
     "metadata": {},
     "output_type": "execute_result"
    },
    {
     "data": {
      "image/png": "[encoded data removed]",
      "text/plain": [
       "<Figure size 1152x576 with 1 Axes>"
      ]
     },
     "metadata": {
      "needs_background": "light"
     },
     "output_type": "display_data"
    }
   ],
   "source": [
    "#Plot for close values on each date\n",
    "data['close'].plot(figsize=(16, 8))"
   ]
  },
  {
   "cell_type": "markdown",
   "id": "5aac546d",
   "metadata": {},
   "source": [
    "# Linear Regression"
   ]
  },
  {
   "cell_type": "markdown",
   "id": "d8f62af2",
   "metadata": {},
   "source": [
    "Here we are going to use LR to make simple prediction of the stock value change. We are checking for accuracy on a particular Stock."
   ]
  },
  {
   "cell_type": "code",
   "execution_count": 10,
   "id": "4e0e93ab",
   "metadata": {},
   "outputs": [],
   "source": [
    "x1 = data[['open', 'high', 'low', 'volume']]\n",
    "y1 = data['close']"
   ]
  },
  {
   "cell_type": "code",
   "execution_count": 11,
   "id": "ca07596c",
   "metadata": {},
   "outputs": [],
   "source": [
    "#Making test and train datasets\n",
    "x1_train, x1_test, y1_train, y1_test = train_test_split(x1, y1, random_state = 0)"
   ]
  },
  {
   "cell_type": "code",
   "execution_count": 12,
   "id": "9f7a8d9f",
   "metadata": {},
   "outputs": [
    {
     "data": {
      "text/plain": [
       "(1321, 4)"
      ]
     },
     "execution_count": 12,
     "metadata": {},
     "output_type": "execute_result"
    }
   ],
   "source": [
    "x1_train.shape"
   ]
  },
  {
   "cell_type": "code",
   "execution_count": 13,
   "id": "ffe7c287",
   "metadata": {},
   "outputs": [
    {
     "data": {
      "text/plain": [
       "(441, 4)"
      ]
     },
     "execution_count": 13,
     "metadata": {},
     "output_type": "execute_result"
    }
   ],
   "source": [
    "x1_test.shape"
   ]
  },
  {
   "cell_type": "code",
   "execution_count": 14,
   "id": "74381105",
   "metadata": {},
   "outputs": [],
   "source": [
    "#Initailizing LinearRegression\n",
    "regression = LinearRegression()"
   ]
  },
  {
   "cell_type": "code",
   "execution_count": 15,
   "id": "0a007d6e",
   "metadata": {},
   "outputs": [
    {
     "data": {
      "text/plain": [
       "LinearRegression()"
      ]
     },
     "execution_count": 15,
     "metadata": {},
     "output_type": "execute_result"
    }
   ],
   "source": [
    "regression.fit(x1_train, y1_train)"
   ]
  },
  {
   "cell_type": "code",
   "execution_count": 16,
   "id": "10798e37",
   "metadata": {},
   "outputs": [
    {
     "name": "stdout",
     "output_type": "stream",
     "text": [
      "[-5.68018424e-01  7.64054774e-01  8.04459306e-01 -1.64964840e-08]\n"
     ]
    }
   ],
   "source": [
    "print(regression.coef_)"
   ]
  },
  {
   "cell_type": "code",
   "execution_count": 17,
   "id": "6f9c69fd",
   "metadata": {},
   "outputs": [
    {
     "name": "stdout",
     "output_type": "stream",
     "text": [
      "0.1633899880290528\n"
     ]
    }
   ],
   "source": [
    "print(regression.intercept_)"
   ]
  },
  {
   "cell_type": "code",
   "execution_count": 18,
   "id": "88515293",
   "metadata": {},
   "outputs": [],
   "source": [
    "predicted = regression.predict(x1_test)"
   ]
  },
  {
   "cell_type": "code",
   "execution_count": 19,
   "id": "03367fd0",
   "metadata": {},
   "outputs": [
    {
     "name": "stdout",
     "output_type": "stream",
     "text": [
      "              open        high         low      volume\n",
      "555060  584.278523  585.096276  580.977544   1036700.0\n",
      "314099  330.257677  334.745874  328.389693   5246900.0\n",
      "193779  251.059406  252.553808  246.342066   9848500.0\n",
      "262399  316.120659  322.486789  315.074576   4957600.0\n",
      "643115  523.989990  533.460022  521.750000   1546300.0\n",
      "...            ...         ...         ...         ...\n",
      "435554  426.282927  427.418671  421.201955   3737100.0\n",
      "45384   233.654606  241.594866  231.333298  19454100.0\n",
      "361768  369.236656  377.002538  368.873008   6790600.0\n",
      "83842   240.972185  244.683281  239.691985  11325400.0\n",
      "51012   242.700718  243.527624  235.119116   5478300.0\n",
      "\n",
      "[441 rows x 4 columns]\n"
     ]
    }
   ],
   "source": [
    "#Predictions for Stock values\n",
    "print(x1_test)"
   ]
  },
  {
   "cell_type": "code",
   "execution_count": 20,
   "id": "a8ce752a",
   "metadata": {},
   "outputs": [
    {
     "data": {
      "text/plain": [
       "(441,)"
      ]
     },
     "execution_count": 20,
     "metadata": {},
     "output_type": "execute_result"
    }
   ],
   "source": [
    "predicted.shape"
   ]
  },
  {
   "cell_type": "markdown",
   "id": "6e653663",
   "metadata": {},
   "source": [
    "# Evaluation of the model"
   ]
  },
  {
   "cell_type": "markdown",
   "id": "89466096",
   "metadata": {},
   "source": [
    "Making table for Actual price and Predicted Price"
   ]
  },
  {
   "cell_type": "code",
   "execution_count": 21,
   "id": "d398a810",
   "metadata": {},
   "outputs": [
    {
     "name": "stdout",
     "output_type": "stream",
     "text": [
      "        Actual_Price  Predicted_Price\n",
      "555060    582.892287       582.683718\n",
      "314099    333.361045       332.424718\n",
      "193779    248.155287       248.531667\n",
      "262399    318.795621       320.381494\n",
      "643115    530.700012       529.821233\n",
      "...              ...              ...\n",
      "435554    421.869467       423.376293\n",
      "45384     235.144034       237.812280\n",
      "361768    375.697452       375.112059\n",
      "83842     244.160254       242.873797\n",
      "51012     236.125344       237.426743\n",
      "\n",
      "[441 rows x 2 columns]\n"
     ]
    }
   ],
   "source": [
    "dframe = pd.DataFrame(y1_test, predicted)\n",
    "dfr = pd.DataFrame({'Actual_Price':y1_test, 'Predicted_Price':predicted})\n",
    "print(dfr)"
   ]
  },
  {
   "cell_type": "code",
   "execution_count": 22,
   "id": "e725c3c6",
   "metadata": {},
   "outputs": [
    {
     "data": {
      "text/html": [
       "<div>\n",
       "<style scoped>\n",
       "    .dataframe tbody tr th:only-of-type {\n",
       "        vertical-align: middle;\n",
       "    }\n",
       "\n",
       "    .dataframe tbody tr th {\n",
       "        vertical-align: top;\n",
       "    }\n",
       "\n",
       "    .dataframe thead th {\n",
       "        text-align: right;\n",
       "    }\n",
       "</style>\n",
       "<table border=\"1\" class=\"dataframe\">\n",
       "  <thead>\n",
       "    <tr style=\"text-align: right;\">\n",
       "      <th></th>\n",
       "      <th>Actual_Price</th>\n",
       "      <th>Predicted_Price</th>\n",
       "    </tr>\n",
       "  </thead>\n",
       "  <tbody>\n",
       "    <tr>\n",
       "      <th>555060</th>\n",
       "      <td>582.892287</td>\n",
       "      <td>582.683718</td>\n",
       "    </tr>\n",
       "    <tr>\n",
       "      <th>314099</th>\n",
       "      <td>333.361045</td>\n",
       "      <td>332.424718</td>\n",
       "    </tr>\n",
       "    <tr>\n",
       "      <th>193779</th>\n",
       "      <td>248.155287</td>\n",
       "      <td>248.531667</td>\n",
       "    </tr>\n",
       "    <tr>\n",
       "      <th>262399</th>\n",
       "      <td>318.795621</td>\n",
       "      <td>320.381494</td>\n",
       "    </tr>\n",
       "    <tr>\n",
       "      <th>643115</th>\n",
       "      <td>530.700012</td>\n",
       "      <td>529.821233</td>\n",
       "    </tr>\n",
       "    <tr>\n",
       "      <th>632741</th>\n",
       "      <td>540.129520</td>\n",
       "      <td>541.486397</td>\n",
       "    </tr>\n",
       "    <tr>\n",
       "      <th>513900</th>\n",
       "      <td>533.348118</td>\n",
       "      <td>533.219415</td>\n",
       "    </tr>\n",
       "    <tr>\n",
       "      <th>473720</th>\n",
       "      <td>548.255945</td>\n",
       "      <td>547.221167</td>\n",
       "    </tr>\n",
       "    <tr>\n",
       "      <th>813463</th>\n",
       "      <td>762.489990</td>\n",
       "      <td>765.895641</td>\n",
       "    </tr>\n",
       "    <tr>\n",
       "      <th>850963</th>\n",
       "      <td>771.820007</td>\n",
       "      <td>773.368222</td>\n",
       "    </tr>\n",
       "  </tbody>\n",
       "</table>\n",
       "</div>"
      ],
      "text/plain": [
       "        Actual_Price  Predicted_Price\n",
       "555060    582.892287       582.683718\n",
       "314099    333.361045       332.424718\n",
       "193779    248.155287       248.531667\n",
       "262399    318.795621       320.381494\n",
       "643115    530.700012       529.821233\n",
       "632741    540.129520       541.486397\n",
       "513900    533.348118       533.219415\n",
       "473720    548.255945       547.221167\n",
       "813463    762.489990       765.895641\n",
       "850963    771.820007       773.368222"
      ]
     },
     "execution_count": 22,
     "metadata": {},
     "output_type": "execute_result"
    }
   ],
   "source": [
    "#Actual values vs Predicted Values \n",
    "dfr.head(10)"
   ]
  },
  {
   "cell_type": "code",
   "execution_count": 23,
   "id": "c4a48fdb",
   "metadata": {},
   "outputs": [],
   "source": [
    "from sklearn.metrics import confusion_matrix, accuracy_score"
   ]
  },
  {
   "cell_type": "code",
   "execution_count": 24,
   "id": "6d55dbaf",
   "metadata": {},
   "outputs": [
    {
     "data": {
      "text/plain": [
       "0.9998110820947373"
      ]
     },
     "execution_count": 24,
     "metadata": {},
     "output_type": "execute_result"
    }
   ],
   "source": [
    "#Regrssion Score Analysis\n",
    "regression.score(x1_test, y1_test)"
   ]
  },
  {
   "cell_type": "code",
   "execution_count": 25,
   "id": "5b25976f",
   "metadata": {},
   "outputs": [
    {
     "name": "stdout",
     "output_type": "stream",
     "text": [
      "Mean Absolute Error: 1.6941834555992499\n",
      "Mean Squared Error: 5.702167323809326\n",
      "Root Mean Squared Error: 2.387921130148424\n"
     ]
    }
   ],
   "source": [
    "print('Mean Absolute Error:', metrics.mean_absolute_error(y1_test, predicted))\n",
    "print('Mean Squared Error:', metrics.mean_squared_error(y1_test, predicted))\n",
    "print('Root Mean Squared Error:', np.sqrt(metrics.mean_squared_error(y1_test, predicted)))"
   ]
  },
  {
   "cell_type": "code",
   "execution_count": 26,
   "id": "f822d479",
   "metadata": {},
   "outputs": [
    {
     "name": "stdout",
     "output_type": "stream",
     "text": [
      "The accuracy of the model is  100.01116524633264\n"
     ]
    }
   ],
   "source": [
    "x2 = dfr.Actual_Price.mean()\n",
    "y2 = dfr.Predicted_Price.mean()\n",
    "Accuracy1 = x2/y2*100\n",
    "print(\"The accuracy of the model is \" , Accuracy1)"
   ]
  },
  {
   "cell_type": "markdown",
   "id": "f638d7ef",
   "metadata": {},
   "source": [
    "# Deploying the model by visualization"
   ]
  },
  {
   "cell_type": "markdown",
   "id": "fc2de27d",
   "metadata": {},
   "source": [
    "### Plotting Acutal Close values vs Predicted Values in LR Model"
   ]
  },
  {
   "cell_type": "code",
   "execution_count": 27,
   "id": "67167fb2",
   "metadata": {},
   "outputs": [
    {
     "data": {
      "image/png": "[encoded data removed]",
      "text/plain": [
       "<Figure size 432x288 with 1 Axes>"
      ]
     },
     "metadata": {
      "needs_background": "light"
     },
     "output_type": "display_data"
    }
   ],
   "source": [
    "plt.scatter(dfr.Actual_Price, dfr.Predicted_Price,  color='red')\n",
    "plt.xlabel(\"Actual Price\")\n",
    "plt.ylabel(\"Predicted Price\")\n",
    "\n",
    "plt.show()"
   ]
  },
  {
   "cell_type": "markdown",
   "id": "ee73b918",
   "metadata": {},
   "source": [
    "We can see that using simple Linear Regression on a Scalar and Linear entity as Stock Price over a period of time gives a simple and straight line. Stating that the stock is growing over time. So now we are some what confident in investing in this stock. To better understand next we are using LSTM model."
   ]
  },
  {
   "cell_type": "code",
   "execution_count": null,
   "id": "c2b1eaf4",
   "metadata": {},
   "outputs": [],
   "source": []
  }
 ],
 "metadata": {
  "kernelspec": {
   "display_name": "Python 3",
   "language": "python",
   "name": "python3"
  },
  "language_info": {
   "codemirror_mode": {
    "name": "ipython",
    "version": 3
   },
   "file_extension": ".py",
   "mimetype": "text/x-python",
   "name": "python",
   "nbconvert_exporter": "python",
   "pygments_lexer": "ipython3",
   "version": "3.8.8"
  }
 },
 "nbformat": 4,
 "nbformat_minor": 5
}

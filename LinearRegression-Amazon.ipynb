{
 "cells": [
  {
   "cell_type": "markdown",
   "id": "0284b566",
   "metadata": {},
   "source": [
    "## In this notebook we are going to Predict the Growth of Amazon Stock using Linear Regression Model and CRISP-DM."
   ]
  },
  {
   "cell_type": "code",
   "execution_count": 150,
   "id": "4dbb9a28",
   "metadata": {},
   "outputs": [],
   "source": [
    "#importing the libraries\n",
    "import numpy as np\n",
    "import pandas as pd\n",
    "from sklearn import metrics\n",
    "%matplotlib inline\n",
    "import matplotlib.pyplot as plt\n",
    "import math\n",
    "from sklearn.linear_model import LinearRegression\n",
    "from sklearn.model_selection import train_test_split\n"
   ]
  },
  {
   "cell_type": "markdown",
   "id": "bc559829",
   "metadata": {},
   "source": [
    "# Data Understanding"
   ]
  },
  {
   "cell_type": "markdown",
   "id": "8aa849a4",
   "metadata": {},
   "source": [
    "The data is already processed to price-split values so it is easy to analysis but we are creating new tables to optimize our model"
   ]
  },
  {
   "cell_type": "code",
   "execution_count": 151,
   "id": "fe39de20",
   "metadata": {},
   "outputs": [],
   "source": [
    "#importing Price Split Data\n",
    "data = pd.read_csv('prices-split-adjusted.csv')"
   ]
  },
  {
   "cell_type": "code",
   "execution_count": 152,
   "id": "dc8a73a3",
   "metadata": {},
   "outputs": [
    {
     "data": {
      "text/html": [
       "<div>\n",
       "<style scoped>\n",
       "    .dataframe tbody tr th:only-of-type {\n",
       "        vertical-align: middle;\n",
       "    }\n",
       "\n",
       "    .dataframe tbody tr th {\n",
       "        vertical-align: top;\n",
       "    }\n",
       "\n",
       "    .dataframe thead th {\n",
       "        text-align: right;\n",
       "    }\n",
       "</style>\n",
       "<table border=\"1\" class=\"dataframe\">\n",
       "  <thead>\n",
       "    <tr style=\"text-align: right;\">\n",
       "      <th></th>\n",
       "      <th>date</th>\n",
       "      <th>symbol</th>\n",
       "      <th>open</th>\n",
       "      <th>close</th>\n",
       "      <th>low</th>\n",
       "      <th>high</th>\n",
       "      <th>volume</th>\n",
       "    </tr>\n",
       "  </thead>\n",
       "  <tbody>\n",
       "    <tr>\n",
       "      <th>0</th>\n",
       "      <td>2016-01-05</td>\n",
       "      <td>WLTW</td>\n",
       "      <td>123.430000</td>\n",
       "      <td>125.839996</td>\n",
       "      <td>122.309998</td>\n",
       "      <td>126.250000</td>\n",
       "      <td>2163600.0</td>\n",
       "    </tr>\n",
       "    <tr>\n",
       "      <th>1</th>\n",
       "      <td>2016-01-06</td>\n",
       "      <td>WLTW</td>\n",
       "      <td>125.239998</td>\n",
       "      <td>119.980003</td>\n",
       "      <td>119.940002</td>\n",
       "      <td>125.540001</td>\n",
       "      <td>2386400.0</td>\n",
       "    </tr>\n",
       "    <tr>\n",
       "      <th>2</th>\n",
       "      <td>2016-01-07</td>\n",
       "      <td>WLTW</td>\n",
       "      <td>116.379997</td>\n",
       "      <td>114.949997</td>\n",
       "      <td>114.930000</td>\n",
       "      <td>119.739998</td>\n",
       "      <td>2489500.0</td>\n",
       "    </tr>\n",
       "    <tr>\n",
       "      <th>3</th>\n",
       "      <td>2016-01-08</td>\n",
       "      <td>WLTW</td>\n",
       "      <td>115.480003</td>\n",
       "      <td>116.620003</td>\n",
       "      <td>113.500000</td>\n",
       "      <td>117.440002</td>\n",
       "      <td>2006300.0</td>\n",
       "    </tr>\n",
       "    <tr>\n",
       "      <th>4</th>\n",
       "      <td>2016-01-11</td>\n",
       "      <td>WLTW</td>\n",
       "      <td>117.010002</td>\n",
       "      <td>114.970001</td>\n",
       "      <td>114.089996</td>\n",
       "      <td>117.330002</td>\n",
       "      <td>1408600.0</td>\n",
       "    </tr>\n",
       "    <tr>\n",
       "      <th>...</th>\n",
       "      <td>...</td>\n",
       "      <td>...</td>\n",
       "      <td>...</td>\n",
       "      <td>...</td>\n",
       "      <td>...</td>\n",
       "      <td>...</td>\n",
       "      <td>...</td>\n",
       "    </tr>\n",
       "    <tr>\n",
       "      <th>851259</th>\n",
       "      <td>2016-12-30</td>\n",
       "      <td>ZBH</td>\n",
       "      <td>103.309998</td>\n",
       "      <td>103.199997</td>\n",
       "      <td>102.849998</td>\n",
       "      <td>103.930000</td>\n",
       "      <td>973800.0</td>\n",
       "    </tr>\n",
       "    <tr>\n",
       "      <th>851260</th>\n",
       "      <td>2016-12-30</td>\n",
       "      <td>ZION</td>\n",
       "      <td>43.070000</td>\n",
       "      <td>43.040001</td>\n",
       "      <td>42.689999</td>\n",
       "      <td>43.310001</td>\n",
       "      <td>1938100.0</td>\n",
       "    </tr>\n",
       "    <tr>\n",
       "      <th>851261</th>\n",
       "      <td>2016-12-30</td>\n",
       "      <td>ZTS</td>\n",
       "      <td>53.639999</td>\n",
       "      <td>53.529999</td>\n",
       "      <td>53.270000</td>\n",
       "      <td>53.740002</td>\n",
       "      <td>1701200.0</td>\n",
       "    </tr>\n",
       "    <tr>\n",
       "      <th>851262</th>\n",
       "      <td>2016-12-30</td>\n",
       "      <td>AIV</td>\n",
       "      <td>44.730000</td>\n",
       "      <td>45.450001</td>\n",
       "      <td>44.410000</td>\n",
       "      <td>45.590000</td>\n",
       "      <td>1380900.0</td>\n",
       "    </tr>\n",
       "    <tr>\n",
       "      <th>851263</th>\n",
       "      <td>2016-12-30</td>\n",
       "      <td>FTV</td>\n",
       "      <td>54.200001</td>\n",
       "      <td>53.630001</td>\n",
       "      <td>53.389999</td>\n",
       "      <td>54.480000</td>\n",
       "      <td>705100.0</td>\n",
       "    </tr>\n",
       "  </tbody>\n",
       "</table>\n",
       "<p>851264 rows × 7 columns</p>\n",
       "</div>"
      ],
      "text/plain": [
       "              date symbol        open       close         low        high  \\\n",
       "0       2016-01-05   WLTW  123.430000  125.839996  122.309998  126.250000   \n",
       "1       2016-01-06   WLTW  125.239998  119.980003  119.940002  125.540001   \n",
       "2       2016-01-07   WLTW  116.379997  114.949997  114.930000  119.739998   \n",
       "3       2016-01-08   WLTW  115.480003  116.620003  113.500000  117.440002   \n",
       "4       2016-01-11   WLTW  117.010002  114.970001  114.089996  117.330002   \n",
       "...            ...    ...         ...         ...         ...         ...   \n",
       "851259  2016-12-30    ZBH  103.309998  103.199997  102.849998  103.930000   \n",
       "851260  2016-12-30   ZION   43.070000   43.040001   42.689999   43.310001   \n",
       "851261  2016-12-30    ZTS   53.639999   53.529999   53.270000   53.740002   \n",
       "851262  2016-12-30    AIV   44.730000   45.450001   44.410000   45.590000   \n",
       "851263  2016-12-30    FTV   54.200001   53.630001   53.389999   54.480000   \n",
       "\n",
       "           volume  \n",
       "0       2163600.0  \n",
       "1       2386400.0  \n",
       "2       2489500.0  \n",
       "3       2006300.0  \n",
       "4       1408600.0  \n",
       "...           ...  \n",
       "851259   973800.0  \n",
       "851260  1938100.0  \n",
       "851261  1701200.0  \n",
       "851262  1380900.0  \n",
       "851263   705100.0  \n",
       "\n",
       "[851264 rows x 7 columns]"
      ]
     },
     "execution_count": 152,
     "metadata": {},
     "output_type": "execute_result"
    }
   ],
   "source": [
    "data"
   ]
  },
  {
   "cell_type": "code",
   "execution_count": 153,
   "id": "4801261f",
   "metadata": {},
   "outputs": [
    {
     "data": {
      "text/plain": [
       "date      0\n",
       "symbol    0\n",
       "open      0\n",
       "close     0\n",
       "low       0\n",
       "high      0\n",
       "volume    0\n",
       "dtype: int64"
      ]
     },
     "execution_count": 153,
     "metadata": {},
     "output_type": "execute_result"
    }
   ],
   "source": [
    "#checking data for null values\n",
    "data.isnull().sum()"
   ]
  },
  {
   "cell_type": "markdown",
   "id": "2b863889",
   "metadata": {},
   "source": [
    "#### There are no null values in the Data table we are going to create"
   ]
  },
  {
   "cell_type": "markdown",
   "id": "77f00244",
   "metadata": {},
   "source": [
    "# Data Preprocessing"
   ]
  },
  {
   "cell_type": "markdown",
   "id": "8042c58e",
   "metadata": {},
   "source": [
    "Creating Table for a specific Stock"
   ]
  },
  {
   "cell_type": "code",
   "execution_count": 154,
   "id": "864872fc",
   "metadata": {},
   "outputs": [
    {
     "data": {
      "text/html": [
       "<div>\n",
       "<style scoped>\n",
       "    .dataframe tbody tr th:only-of-type {\n",
       "        vertical-align: middle;\n",
       "    }\n",
       "\n",
       "    .dataframe tbody tr th {\n",
       "        vertical-align: top;\n",
       "    }\n",
       "\n",
       "    .dataframe thead th {\n",
       "        text-align: right;\n",
       "    }\n",
       "</style>\n",
       "<table border=\"1\" class=\"dataframe\">\n",
       "  <thead>\n",
       "    <tr style=\"text-align: right;\">\n",
       "      <th></th>\n",
       "      <th>date</th>\n",
       "      <th>open</th>\n",
       "      <th>close</th>\n",
       "      <th>low</th>\n",
       "      <th>volume</th>\n",
       "      <th>high</th>\n",
       "    </tr>\n",
       "  </thead>\n",
       "  <tbody>\n",
       "    <tr>\n",
       "      <th>284</th>\n",
       "      <td>2010-01-04</td>\n",
       "      <td>136.250000</td>\n",
       "      <td>133.899994</td>\n",
       "      <td>133.139999</td>\n",
       "      <td>7599900.0</td>\n",
       "      <td>136.610001</td>\n",
       "    </tr>\n",
       "    <tr>\n",
       "      <th>751</th>\n",
       "      <td>2010-01-05</td>\n",
       "      <td>133.429993</td>\n",
       "      <td>134.690002</td>\n",
       "      <td>131.809998</td>\n",
       "      <td>8851900.0</td>\n",
       "      <td>135.479996</td>\n",
       "    </tr>\n",
       "    <tr>\n",
       "      <th>1219</th>\n",
       "      <td>2010-01-06</td>\n",
       "      <td>134.600006</td>\n",
       "      <td>132.250000</td>\n",
       "      <td>131.649994</td>\n",
       "      <td>7178800.0</td>\n",
       "      <td>134.729996</td>\n",
       "    </tr>\n",
       "    <tr>\n",
       "      <th>1687</th>\n",
       "      <td>2010-01-07</td>\n",
       "      <td>132.009995</td>\n",
       "      <td>130.000000</td>\n",
       "      <td>128.800003</td>\n",
       "      <td>11030200.0</td>\n",
       "      <td>132.320007</td>\n",
       "    </tr>\n",
       "    <tr>\n",
       "      <th>2155</th>\n",
       "      <td>2010-01-08</td>\n",
       "      <td>130.559998</td>\n",
       "      <td>133.520004</td>\n",
       "      <td>129.029999</td>\n",
       "      <td>9830500.0</td>\n",
       "      <td>133.679993</td>\n",
       "    </tr>\n",
       "    <tr>\n",
       "      <th>...</th>\n",
       "      <td>...</td>\n",
       "      <td>...</td>\n",
       "      <td>...</td>\n",
       "      <td>...</td>\n",
       "      <td>...</td>\n",
       "      <td>...</td>\n",
       "    </tr>\n",
       "    <tr>\n",
       "      <th>848799</th>\n",
       "      <td>2016-12-23</td>\n",
       "      <td>764.549988</td>\n",
       "      <td>760.590027</td>\n",
       "      <td>757.989990</td>\n",
       "      <td>1976900.0</td>\n",
       "      <td>766.500000</td>\n",
       "    </tr>\n",
       "    <tr>\n",
       "      <th>849299</th>\n",
       "      <td>2016-12-27</td>\n",
       "      <td>763.400024</td>\n",
       "      <td>771.400024</td>\n",
       "      <td>761.200012</td>\n",
       "      <td>2627400.0</td>\n",
       "      <td>774.650024</td>\n",
       "    </tr>\n",
       "    <tr>\n",
       "      <th>849799</th>\n",
       "      <td>2016-12-28</td>\n",
       "      <td>776.250000</td>\n",
       "      <td>772.130005</td>\n",
       "      <td>770.500000</td>\n",
       "      <td>3279100.0</td>\n",
       "      <td>780.000000</td>\n",
       "    </tr>\n",
       "    <tr>\n",
       "      <th>850299</th>\n",
       "      <td>2016-12-29</td>\n",
       "      <td>772.400024</td>\n",
       "      <td>765.150024</td>\n",
       "      <td>760.849976</td>\n",
       "      <td>3153500.0</td>\n",
       "      <td>773.400024</td>\n",
       "    </tr>\n",
       "    <tr>\n",
       "      <th>850799</th>\n",
       "      <td>2016-12-30</td>\n",
       "      <td>766.469971</td>\n",
       "      <td>749.869995</td>\n",
       "      <td>748.280029</td>\n",
       "      <td>4125300.0</td>\n",
       "      <td>767.400024</td>\n",
       "    </tr>\n",
       "  </tbody>\n",
       "</table>\n",
       "<p>1762 rows × 6 columns</p>\n",
       "</div>"
      ],
      "text/plain": [
       "              date        open       close         low      volume        high\n",
       "284     2010-01-04  136.250000  133.899994  133.139999   7599900.0  136.610001\n",
       "751     2010-01-05  133.429993  134.690002  131.809998   8851900.0  135.479996\n",
       "1219    2010-01-06  134.600006  132.250000  131.649994   7178800.0  134.729996\n",
       "1687    2010-01-07  132.009995  130.000000  128.800003  11030200.0  132.320007\n",
       "2155    2010-01-08  130.559998  133.520004  129.029999   9830500.0  133.679993\n",
       "...            ...         ...         ...         ...         ...         ...\n",
       "848799  2016-12-23  764.549988  760.590027  757.989990   1976900.0  766.500000\n",
       "849299  2016-12-27  763.400024  771.400024  761.200012   2627400.0  774.650024\n",
       "849799  2016-12-28  776.250000  772.130005  770.500000   3279100.0  780.000000\n",
       "850299  2016-12-29  772.400024  765.150024  760.849976   3153500.0  773.400024\n",
       "850799  2016-12-30  766.469971  749.869995  748.280029   4125300.0  767.400024\n",
       "\n",
       "[1762 rows x 6 columns]"
      ]
     },
     "execution_count": 154,
     "metadata": {},
     "output_type": "execute_result"
    }
   ],
   "source": [
    "#Initializing the Dataset for the Stock to be Analysized\n",
    "data = data.loc[(data['symbol'] == 'AMZN')]\n",
    "data = data.drop(columns=['symbol'])\n",
    "data = data[['date', 'open', 'close', 'low', 'volume', 'high']]\n",
    "data"
   ]
  },
  {
   "cell_type": "code",
   "execution_count": 155,
   "id": "6e7f3330",
   "metadata": {},
   "outputs": [
    {
     "data": {
      "text/plain": [
       "(1762, 6)"
      ]
     },
     "execution_count": 155,
     "metadata": {},
     "output_type": "execute_result"
    }
   ],
   "source": [
    "#Number of rows and columns we are working with\n",
    "data.shape"
   ]
  },
  {
   "cell_type": "markdown",
   "id": "71f4ec86",
   "metadata": {},
   "source": [
    "Ploting the closing price of the Stock"
   ]
  },
  {
   "cell_type": "code",
   "execution_count": 156,
   "id": "4c651299",
   "metadata": {},
   "outputs": [
    {
     "data": {
      "image/png": "[encoded data removed]",
      "text/plain": [
       "<Figure size 432x288 with 1 Axes>"
      ]
     },
     "metadata": {
      "needs_background": "light"
     },
     "output_type": "display_data"
    }
   ],
   "source": [
    "plt.scatter(data.date, data.close, color='blue')\n",
    "plt.xlabel(\"Time\")\n",
    "plt.ylabel(\"Close\")\n",
    "plt.show()"
   ]
  },
  {
   "cell_type": "markdown",
   "id": "12d72422",
   "metadata": {},
   "source": [
    "### Here we can see that the Stock is growing in Long-Term with multiple medium downfall which are acceptable\n",
    "So it is good for Long-term investing"
   ]
  },
  {
   "cell_type": "code",
   "execution_count": 157,
   "id": "73fd675b",
   "metadata": {},
   "outputs": [],
   "source": [
    "#For plotting against time\n",
    "data['date'] = pd.to_datetime(data.date)"
   ]
  },
  {
   "cell_type": "code",
   "execution_count": 158,
   "id": "f3aa842c",
   "metadata": {},
   "outputs": [
    {
     "data": {
      "text/plain": [
       "<AxesSubplot:>"
      ]
     },
     "execution_count": 158,
     "metadata": {},
     "output_type": "execute_result"
    },
    {
     "data": {
      "image/png": "[encoded data removed]",
      "text/plain": [
       "<Figure size 1152x576 with 1 Axes>"
      ]
     },
     "metadata": {
      "needs_background": "light"
     },
     "output_type": "display_data"
    }
   ],
   "source": [
    "#Plot for close values on each date\n",
    "data['close'].plot(figsize=(16, 8))"
   ]
  },
  {
   "cell_type": "markdown",
   "id": "5aac546d",
   "metadata": {},
   "source": [
    "# Linear Regression"
   ]
  },
  {
   "cell_type": "markdown",
   "id": "d8f62af2",
   "metadata": {},
   "source": [
    "Here we are going to use LR to make simple prediction of the stock value change. We are checking for accuracy on a particular Stock."
   ]
  },
  {
   "cell_type": "code",
   "execution_count": 159,
   "id": "4e0e93ab",
   "metadata": {},
   "outputs": [],
   "source": [
    "x1 = data[['open', 'high', 'low', 'volume']]\n",
    "y1 = data['close']"
   ]
  },
  {
   "cell_type": "code",
   "execution_count": 160,
   "id": "ca07596c",
   "metadata": {},
   "outputs": [],
   "source": [
    "#Making test and train datasets\n",
    "x1_train, x1_test, y1_train, y1_test = train_test_split(x1, y1, random_state = 0)"
   ]
  },
  {
   "cell_type": "code",
   "execution_count": 161,
   "id": "9f7a8d9f",
   "metadata": {},
   "outputs": [
    {
     "data": {
      "text/plain": [
       "(1321, 4)"
      ]
     },
     "execution_count": 161,
     "metadata": {},
     "output_type": "execute_result"
    }
   ],
   "source": [
    "x1_train.shape"
   ]
  },
  {
   "cell_type": "code",
   "execution_count": 162,
   "id": "ffe7c287",
   "metadata": {},
   "outputs": [
    {
     "data": {
      "text/plain": [
       "(441, 4)"
      ]
     },
     "execution_count": 162,
     "metadata": {},
     "output_type": "execute_result"
    }
   ],
   "source": [
    "x1_test.shape"
   ]
  },
  {
   "cell_type": "code",
   "execution_count": 163,
   "id": "74381105",
   "metadata": {},
   "outputs": [],
   "source": [
    "#Initailizing LinearRegression\n",
    "regression = LinearRegression()"
   ]
  },
  {
   "cell_type": "code",
   "execution_count": 164,
   "id": "0a007d6e",
   "metadata": {},
   "outputs": [
    {
     "data": {
      "text/plain": [
       "LinearRegression()"
      ]
     },
     "execution_count": 164,
     "metadata": {},
     "output_type": "execute_result"
    }
   ],
   "source": [
    "regression.fit(x1_train, y1_train)"
   ]
  },
  {
   "cell_type": "code",
   "execution_count": 165,
   "id": "10798e37",
   "metadata": {},
   "outputs": [
    {
     "name": "stdout",
     "output_type": "stream",
     "text": [
      "[-5.87925894e-01  8.28276131e-01  7.59893647e-01  8.34445879e-09]\n"
     ]
    }
   ],
   "source": [
    "print(regression.coef_)"
   ]
  },
  {
   "cell_type": "code",
   "execution_count": 166,
   "id": "6f9c69fd",
   "metadata": {},
   "outputs": [
    {
     "name": "stdout",
     "output_type": "stream",
     "text": [
      "-0.12697375175366687\n"
     ]
    }
   ],
   "source": [
    "print(regression.intercept_)"
   ]
  },
  {
   "cell_type": "code",
   "execution_count": 167,
   "id": "88515293",
   "metadata": {},
   "outputs": [],
   "source": [
    "predicted = regression.predict(x1_test)"
   ]
  },
  {
   "cell_type": "code",
   "execution_count": 168,
   "id": "03367fd0",
   "metadata": {},
   "outputs": [
    {
     "name": "stdout",
     "output_type": "stream",
     "text": [
      "              open        high         low     volume\n",
      "554898  334.679993  337.160004  334.019989  1810500.0\n",
      "313942  245.789993  247.500000  243.119995  2929700.0\n",
      "193622  182.830002  184.199997  177.100006  5313700.0\n",
      "262242  192.500000  194.279999  191.259995  4214400.0\n",
      "642952  424.149994  428.500000  422.850006  2766100.0\n",
      "...            ...         ...         ...        ...\n",
      "435392  284.589996  284.869995  280.000000  1534700.0\n",
      "45228   117.900002  124.970001  117.519997  7966900.0\n",
      "361608  269.369995  276.649994  269.369995  3417000.0\n",
      "83686   148.899994  148.979996  146.500000  7259600.0\n",
      "50856   120.309998  121.470001  117.360001  7369200.0\n",
      "\n",
      "[441 rows x 4 columns]\n"
     ]
    }
   ],
   "source": [
    "#Predictions for Stock values\n",
    "print(x1_test)"
   ]
  },
  {
   "cell_type": "code",
   "execution_count": 169,
   "id": "a8ce752a",
   "metadata": {},
   "outputs": [
    {
     "data": {
      "text/plain": [
       "(441,)"
      ]
     },
     "execution_count": 169,
     "metadata": {},
     "output_type": "execute_result"
    }
   ],
   "source": [
    "predicted.shape"
   ]
  },
  {
   "cell_type": "markdown",
   "id": "6e653663",
   "metadata": {},
   "source": [
    "# Evaluation of the model"
   ]
  },
  {
   "cell_type": "markdown",
   "id": "89466096",
   "metadata": {},
   "source": [
    "Making table for Actual price and Predicted Price"
   ]
  },
  {
   "cell_type": "code",
   "execution_count": 170,
   "id": "d398a810",
   "metadata": {},
   "outputs": [
    {
     "name": "stdout",
     "output_type": "stream",
     "text": [
      "        Actual_Price  Predicted_Price\n",
      "554898    335.779999       336.202351\n",
      "313942    243.919998       245.134854\n",
      "193622    177.539993       179.572504\n",
      "262242    191.729996       192.987200\n",
      "642952    426.880005       426.764699\n",
      "...              ...              ...\n",
      "435392    280.980011       281.289243\n",
      "45228     122.720001       123.435410\n",
      "361608    273.459991       275.367079\n",
      "83686     148.320007       147.112436\n",
      "50856     117.910004       118.992977\n",
      "\n",
      "[441 rows x 2 columns]\n"
     ]
    }
   ],
   "source": [
    "dframe = pd.DataFrame(y1_test, predicted)\n",
    "dfr = pd.DataFrame({'Actual_Price':y1_test, 'Predicted_Price':predicted})\n",
    "print(dfr)"
   ]
  },
  {
   "cell_type": "code",
   "execution_count": 171,
   "id": "e725c3c6",
   "metadata": {},
   "outputs": [
    {
     "data": {
      "text/html": [
       "<div>\n",
       "<style scoped>\n",
       "    .dataframe tbody tr th:only-of-type {\n",
       "        vertical-align: middle;\n",
       "    }\n",
       "\n",
       "    .dataframe tbody tr th {\n",
       "        vertical-align: top;\n",
       "    }\n",
       "\n",
       "    .dataframe thead th {\n",
       "        text-align: right;\n",
       "    }\n",
       "</style>\n",
       "<table border=\"1\" class=\"dataframe\">\n",
       "  <thead>\n",
       "    <tr style=\"text-align: right;\">\n",
       "      <th></th>\n",
       "      <th>Actual_Price</th>\n",
       "      <th>Predicted_Price</th>\n",
       "    </tr>\n",
       "  </thead>\n",
       "  <tbody>\n",
       "    <tr>\n",
       "      <th>554898</th>\n",
       "      <td>335.779999</td>\n",
       "      <td>336.202351</td>\n",
       "    </tr>\n",
       "    <tr>\n",
       "      <th>313942</th>\n",
       "      <td>243.919998</td>\n",
       "      <td>245.134854</td>\n",
       "    </tr>\n",
       "    <tr>\n",
       "      <th>193622</th>\n",
       "      <td>177.539993</td>\n",
       "      <td>179.572504</td>\n",
       "    </tr>\n",
       "    <tr>\n",
       "      <th>262242</th>\n",
       "      <td>191.729996</td>\n",
       "      <td>192.987200</td>\n",
       "    </tr>\n",
       "    <tr>\n",
       "      <th>642952</th>\n",
       "      <td>426.880005</td>\n",
       "      <td>426.764699</td>\n",
       "    </tr>\n",
       "    <tr>\n",
       "      <th>632578</th>\n",
       "      <td>381.200012</td>\n",
       "      <td>380.370453</td>\n",
       "    </tr>\n",
       "    <tr>\n",
       "      <th>513738</th>\n",
       "      <td>329.320007</td>\n",
       "      <td>334.215213</td>\n",
       "    </tr>\n",
       "    <tr>\n",
       "      <th>473558</th>\n",
       "      <td>402.200012</td>\n",
       "      <td>402.743649</td>\n",
       "    </tr>\n",
       "    <tr>\n",
       "      <th>813299</th>\n",
       "      <td>761.090027</td>\n",
       "      <td>764.124162</td>\n",
       "    </tr>\n",
       "    <tr>\n",
       "      <th>850799</th>\n",
       "      <td>749.869995</td>\n",
       "      <td>753.512270</td>\n",
       "    </tr>\n",
       "  </tbody>\n",
       "</table>\n",
       "</div>"
      ],
      "text/plain": [
       "        Actual_Price  Predicted_Price\n",
       "554898    335.779999       336.202351\n",
       "313942    243.919998       245.134854\n",
       "193622    177.539993       179.572504\n",
       "262242    191.729996       192.987200\n",
       "642952    426.880005       426.764699\n",
       "632578    381.200012       380.370453\n",
       "513738    329.320007       334.215213\n",
       "473558    402.200012       402.743649\n",
       "813299    761.090027       764.124162\n",
       "850799    749.869995       753.512270"
      ]
     },
     "execution_count": 171,
     "metadata": {},
     "output_type": "execute_result"
    }
   ],
   "source": [
    "#Actual values vs Predicted Values \n",
    "dfr.head(10)"
   ]
  },
  {
   "cell_type": "code",
   "execution_count": 172,
   "id": "c4a48fdb",
   "metadata": {},
   "outputs": [],
   "source": [
    "from sklearn.metrics import confusion_matrix, accuracy_score"
   ]
  },
  {
   "cell_type": "code",
   "execution_count": 173,
   "id": "6d55dbaf",
   "metadata": {},
   "outputs": [
    {
     "data": {
      "text/plain": [
       "0.9998720658993017"
      ]
     },
     "execution_count": 173,
     "metadata": {},
     "output_type": "execute_result"
    }
   ],
   "source": [
    "#Regrssion Score Analysis\n",
    "regression.score(x1_test, y1_test)"
   ]
  },
  {
   "cell_type": "code",
   "execution_count": 174,
   "id": "5b25976f",
   "metadata": {},
   "outputs": [
    {
     "name": "stdout",
     "output_type": "stream",
     "text": [
      "Mean Absolute Error: 1.5453937749166724\n",
      "Mean Squared Error: 4.573651073481705\n",
      "Root Mean Squared Error: 2.1386096122204505\n"
     ]
    }
   ],
   "source": [
    "print('Mean Absolute Error:', metrics.mean_absolute_error(y1_test, predicted))\n",
    "print('Mean Squared Error:', metrics.mean_squared_error(y1_test, predicted))\n",
    "print('Root Mean Squared Error:', np.sqrt(metrics.mean_squared_error(y1_test, predicted)))"
   ]
  },
  {
   "cell_type": "code",
   "execution_count": 175,
   "id": "f822d479",
   "metadata": {},
   "outputs": [
    {
     "name": "stdout",
     "output_type": "stream",
     "text": [
      "The accuracy of the model is  100.03027820524657\n"
     ]
    }
   ],
   "source": [
    "x2 = dfr.Actual_Price.mean()\n",
    "y2 = dfr.Predicted_Price.mean()\n",
    "Accuracy1 = x2/y2*100\n",
    "print(\"The accuracy of the model is \" , Accuracy1)"
   ]
  },
  {
   "cell_type": "markdown",
   "id": "f638d7ef",
   "metadata": {},
   "source": [
    "# Deploying the model by visualization"
   ]
  },
  {
   "cell_type": "markdown",
   "id": "fc2de27d",
   "metadata": {},
   "source": [
    "### Plotting Acutal Close values vs Predicted Values in LR Model"
   ]
  },
  {
   "cell_type": "code",
   "execution_count": 176,
   "id": "67167fb2",
   "metadata": {},
   "outputs": [
    {
     "data": {
      "image/png": "[encoded data removed]",
      "text/plain": [
       "<Figure size 432x288 with 1 Axes>"
      ]
     },
     "metadata": {
      "needs_background": "light"
     },
     "output_type": "display_data"
    }
   ],
   "source": [
    "plt.scatter(dfr.Actual_Price, dfr.Predicted_Price,  color='red')\n",
    "plt.xlabel(\"Actual Price\")\n",
    "plt.ylabel(\"Predicted Price\")\n",
    "\n",
    "plt.show()"
   ]
  },
  {
   "cell_type": "markdown",
   "id": "ee73b918",
   "metadata": {},
   "source": [
    "We can see that using simple Linear Regression on a Scalar and Linear entity as Stock Price over a period of time gives a simple and straight line. Stating that the stock is growing over time. So now we are some what confident in investing in this stock. To better understand next we are using LSTM model."
   ]
  },
  {
   "cell_type": "code",
   "execution_count": null,
   "id": "c2b1eaf4",
   "metadata": {},
   "outputs": [],
   "source": []
  },
  {
   "cell_type": "code",
   "execution_count": null,
   "id": "ba5ef604",
   "metadata": {},
   "outputs": [],
   "source": []
  }
 ],
 "metadata": {
  "kernelspec": {
   "display_name": "Python 3",
   "language": "python",
   "name": "python3"
  },
  "language_info": {
   "codemirror_mode": {
    "name": "ipython",
    "version": 3
   },
   "file_extension": ".py",
   "mimetype": "text/x-python",
   "name": "python",
   "nbconvert_exporter": "python",
   "pygments_lexer": "ipython3",
   "version": "3.8.8"
  }
 },
 "nbformat": 4,
 "nbformat_minor": 5
}

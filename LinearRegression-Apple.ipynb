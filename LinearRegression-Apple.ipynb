{
 "cells": [
  {
   "cell_type": "markdown",
   "id": "0284b566",
   "metadata": {},
   "source": [
    "## In this notebook we are going to Predict the Growth of Apple Stock using Linear Regression Model and CRISP-DM."
   ]
  },
  {
   "cell_type": "code",
   "execution_count": 28,
   "id": "4dbb9a28",
   "metadata": {},
   "outputs": [],
   "source": [
    "#importing the libraries\n",
    "import numpy as np\n",
    "import pandas as pd\n",
    "from sklearn import metrics\n",
    "%matplotlib inline\n",
    "import matplotlib.pyplot as plt\n",
    "import math\n",
    "from sklearn.linear_model import LinearRegression\n",
    "from sklearn.model_selection import train_test_split\n"
   ]
  },
  {
   "cell_type": "markdown",
   "id": "bc559829",
   "metadata": {},
   "source": [
    "# Data Understanding"
   ]
  },
  {
   "cell_type": "markdown",
   "id": "8aa849a4",
   "metadata": {},
   "source": [
    "The data is already processed to price-split values so it is easy to analysis but we are creating new tables to optimize our model"
   ]
  },
  {
   "cell_type": "code",
   "execution_count": 29,
   "id": "fe39de20",
   "metadata": {},
   "outputs": [],
   "source": [
    "#importing Price Split Data\n",
    "data = pd.read_csv('prices-split-adjusted.csv')"
   ]
  },
  {
   "cell_type": "code",
   "execution_count": 30,
   "id": "dc8a73a3",
   "metadata": {},
   "outputs": [
    {
     "data": {
      "text/html": [
       "<div>\n",
       "<style scoped>\n",
       "    .dataframe tbody tr th:only-of-type {\n",
       "        vertical-align: middle;\n",
       "    }\n",
       "\n",
       "    .dataframe tbody tr th {\n",
       "        vertical-align: top;\n",
       "    }\n",
       "\n",
       "    .dataframe thead th {\n",
       "        text-align: right;\n",
       "    }\n",
       "</style>\n",
       "<table border=\"1\" class=\"dataframe\">\n",
       "  <thead>\n",
       "    <tr style=\"text-align: right;\">\n",
       "      <th></th>\n",
       "      <th>date</th>\n",
       "      <th>symbol</th>\n",
       "      <th>open</th>\n",
       "      <th>close</th>\n",
       "      <th>low</th>\n",
       "      <th>high</th>\n",
       "      <th>volume</th>\n",
       "    </tr>\n",
       "  </thead>\n",
       "  <tbody>\n",
       "    <tr>\n",
       "      <th>0</th>\n",
       "      <td>2016-01-05</td>\n",
       "      <td>WLTW</td>\n",
       "      <td>123.430000</td>\n",
       "      <td>125.839996</td>\n",
       "      <td>122.309998</td>\n",
       "      <td>126.250000</td>\n",
       "      <td>2163600.0</td>\n",
       "    </tr>\n",
       "    <tr>\n",
       "      <th>1</th>\n",
       "      <td>2016-01-06</td>\n",
       "      <td>WLTW</td>\n",
       "      <td>125.239998</td>\n",
       "      <td>119.980003</td>\n",
       "      <td>119.940002</td>\n",
       "      <td>125.540001</td>\n",
       "      <td>2386400.0</td>\n",
       "    </tr>\n",
       "    <tr>\n",
       "      <th>2</th>\n",
       "      <td>2016-01-07</td>\n",
       "      <td>WLTW</td>\n",
       "      <td>116.379997</td>\n",
       "      <td>114.949997</td>\n",
       "      <td>114.930000</td>\n",
       "      <td>119.739998</td>\n",
       "      <td>2489500.0</td>\n",
       "    </tr>\n",
       "    <tr>\n",
       "      <th>3</th>\n",
       "      <td>2016-01-08</td>\n",
       "      <td>WLTW</td>\n",
       "      <td>115.480003</td>\n",
       "      <td>116.620003</td>\n",
       "      <td>113.500000</td>\n",
       "      <td>117.440002</td>\n",
       "      <td>2006300.0</td>\n",
       "    </tr>\n",
       "    <tr>\n",
       "      <th>4</th>\n",
       "      <td>2016-01-11</td>\n",
       "      <td>WLTW</td>\n",
       "      <td>117.010002</td>\n",
       "      <td>114.970001</td>\n",
       "      <td>114.089996</td>\n",
       "      <td>117.330002</td>\n",
       "      <td>1408600.0</td>\n",
       "    </tr>\n",
       "    <tr>\n",
       "      <th>...</th>\n",
       "      <td>...</td>\n",
       "      <td>...</td>\n",
       "      <td>...</td>\n",
       "      <td>...</td>\n",
       "      <td>...</td>\n",
       "      <td>...</td>\n",
       "      <td>...</td>\n",
       "    </tr>\n",
       "    <tr>\n",
       "      <th>851259</th>\n",
       "      <td>2016-12-30</td>\n",
       "      <td>ZBH</td>\n",
       "      <td>103.309998</td>\n",
       "      <td>103.199997</td>\n",
       "      <td>102.849998</td>\n",
       "      <td>103.930000</td>\n",
       "      <td>973800.0</td>\n",
       "    </tr>\n",
       "    <tr>\n",
       "      <th>851260</th>\n",
       "      <td>2016-12-30</td>\n",
       "      <td>ZION</td>\n",
       "      <td>43.070000</td>\n",
       "      <td>43.040001</td>\n",
       "      <td>42.689999</td>\n",
       "      <td>43.310001</td>\n",
       "      <td>1938100.0</td>\n",
       "    </tr>\n",
       "    <tr>\n",
       "      <th>851261</th>\n",
       "      <td>2016-12-30</td>\n",
       "      <td>ZTS</td>\n",
       "      <td>53.639999</td>\n",
       "      <td>53.529999</td>\n",
       "      <td>53.270000</td>\n",
       "      <td>53.740002</td>\n",
       "      <td>1701200.0</td>\n",
       "    </tr>\n",
       "    <tr>\n",
       "      <th>851262</th>\n",
       "      <td>2016-12-30</td>\n",
       "      <td>AIV</td>\n",
       "      <td>44.730000</td>\n",
       "      <td>45.450001</td>\n",
       "      <td>44.410000</td>\n",
       "      <td>45.590000</td>\n",
       "      <td>1380900.0</td>\n",
       "    </tr>\n",
       "    <tr>\n",
       "      <th>851263</th>\n",
       "      <td>2016-12-30</td>\n",
       "      <td>FTV</td>\n",
       "      <td>54.200001</td>\n",
       "      <td>53.630001</td>\n",
       "      <td>53.389999</td>\n",
       "      <td>54.480000</td>\n",
       "      <td>705100.0</td>\n",
       "    </tr>\n",
       "  </tbody>\n",
       "</table>\n",
       "<p>851264 rows × 7 columns</p>\n",
       "</div>"
      ],
      "text/plain": [
       "              date symbol        open       close         low        high  \\\n",
       "0       2016-01-05   WLTW  123.430000  125.839996  122.309998  126.250000   \n",
       "1       2016-01-06   WLTW  125.239998  119.980003  119.940002  125.540001   \n",
       "2       2016-01-07   WLTW  116.379997  114.949997  114.930000  119.739998   \n",
       "3       2016-01-08   WLTW  115.480003  116.620003  113.500000  117.440002   \n",
       "4       2016-01-11   WLTW  117.010002  114.970001  114.089996  117.330002   \n",
       "...            ...    ...         ...         ...         ...         ...   \n",
       "851259  2016-12-30    ZBH  103.309998  103.199997  102.849998  103.930000   \n",
       "851260  2016-12-30   ZION   43.070000   43.040001   42.689999   43.310001   \n",
       "851261  2016-12-30    ZTS   53.639999   53.529999   53.270000   53.740002   \n",
       "851262  2016-12-30    AIV   44.730000   45.450001   44.410000   45.590000   \n",
       "851263  2016-12-30    FTV   54.200001   53.630001   53.389999   54.480000   \n",
       "\n",
       "           volume  \n",
       "0       2163600.0  \n",
       "1       2386400.0  \n",
       "2       2489500.0  \n",
       "3       2006300.0  \n",
       "4       1408600.0  \n",
       "...           ...  \n",
       "851259   973800.0  \n",
       "851260  1938100.0  \n",
       "851261  1701200.0  \n",
       "851262  1380900.0  \n",
       "851263   705100.0  \n",
       "\n",
       "[851264 rows x 7 columns]"
      ]
     },
     "execution_count": 30,
     "metadata": {},
     "output_type": "execute_result"
    }
   ],
   "source": [
    "data"
   ]
  },
  {
   "cell_type": "code",
   "execution_count": 31,
   "id": "4801261f",
   "metadata": {},
   "outputs": [
    {
     "data": {
      "text/plain": [
       "date      0\n",
       "symbol    0\n",
       "open      0\n",
       "close     0\n",
       "low       0\n",
       "high      0\n",
       "volume    0\n",
       "dtype: int64"
      ]
     },
     "execution_count": 31,
     "metadata": {},
     "output_type": "execute_result"
    }
   ],
   "source": [
    "#checking data for null values\n",
    "data.isnull().sum()"
   ]
  },
  {
   "cell_type": "markdown",
   "id": "7c4757a5",
   "metadata": {},
   "source": [
    "#### There are no null values in the Data table we are going to create"
   ]
  },
  {
   "cell_type": "markdown",
   "id": "77f00244",
   "metadata": {},
   "source": [
    "# Data Preprocessing"
   ]
  },
  {
   "cell_type": "markdown",
   "id": "8042c58e",
   "metadata": {},
   "source": [
    "Creating Table for a specific Stock"
   ]
  },
  {
   "cell_type": "code",
   "execution_count": 32,
   "id": "864872fc",
   "metadata": {},
   "outputs": [
    {
     "data": {
      "text/html": [
       "<div>\n",
       "<style scoped>\n",
       "    .dataframe tbody tr th:only-of-type {\n",
       "        vertical-align: middle;\n",
       "    }\n",
       "\n",
       "    .dataframe tbody tr th {\n",
       "        vertical-align: top;\n",
       "    }\n",
       "\n",
       "    .dataframe thead th {\n",
       "        text-align: right;\n",
       "    }\n",
       "</style>\n",
       "<table border=\"1\" class=\"dataframe\">\n",
       "  <thead>\n",
       "    <tr style=\"text-align: right;\">\n",
       "      <th></th>\n",
       "      <th>date</th>\n",
       "      <th>open</th>\n",
       "      <th>close</th>\n",
       "      <th>low</th>\n",
       "      <th>volume</th>\n",
       "      <th>high</th>\n",
       "    </tr>\n",
       "  </thead>\n",
       "  <tbody>\n",
       "    <tr>\n",
       "      <th>254</th>\n",
       "      <td>2010-01-04</td>\n",
       "      <td>30.490000</td>\n",
       "      <td>30.572857</td>\n",
       "      <td>30.340000</td>\n",
       "      <td>123432400.0</td>\n",
       "      <td>30.642857</td>\n",
       "    </tr>\n",
       "    <tr>\n",
       "      <th>721</th>\n",
       "      <td>2010-01-05</td>\n",
       "      <td>30.657143</td>\n",
       "      <td>30.625713</td>\n",
       "      <td>30.464285</td>\n",
       "      <td>150476200.0</td>\n",
       "      <td>30.798571</td>\n",
       "    </tr>\n",
       "    <tr>\n",
       "      <th>1189</th>\n",
       "      <td>2010-01-06</td>\n",
       "      <td>30.625713</td>\n",
       "      <td>30.138571</td>\n",
       "      <td>30.107143</td>\n",
       "      <td>138040000.0</td>\n",
       "      <td>30.747143</td>\n",
       "    </tr>\n",
       "    <tr>\n",
       "      <th>1657</th>\n",
       "      <td>2010-01-07</td>\n",
       "      <td>30.250000</td>\n",
       "      <td>30.082857</td>\n",
       "      <td>29.864286</td>\n",
       "      <td>119282800.0</td>\n",
       "      <td>30.285715</td>\n",
       "    </tr>\n",
       "    <tr>\n",
       "      <th>2125</th>\n",
       "      <td>2010-01-08</td>\n",
       "      <td>30.042856</td>\n",
       "      <td>30.282858</td>\n",
       "      <td>29.865715</td>\n",
       "      <td>111902700.0</td>\n",
       "      <td>30.285715</td>\n",
       "    </tr>\n",
       "    <tr>\n",
       "      <th>...</th>\n",
       "      <td>...</td>\n",
       "      <td>...</td>\n",
       "      <td>...</td>\n",
       "      <td>...</td>\n",
       "      <td>...</td>\n",
       "      <td>...</td>\n",
       "    </tr>\n",
       "    <tr>\n",
       "      <th>848767</th>\n",
       "      <td>2016-12-23</td>\n",
       "      <td>115.589996</td>\n",
       "      <td>116.519997</td>\n",
       "      <td>115.589996</td>\n",
       "      <td>14249500.0</td>\n",
       "      <td>116.519997</td>\n",
       "    </tr>\n",
       "    <tr>\n",
       "      <th>849267</th>\n",
       "      <td>2016-12-27</td>\n",
       "      <td>116.519997</td>\n",
       "      <td>117.260002</td>\n",
       "      <td>116.489998</td>\n",
       "      <td>18296900.0</td>\n",
       "      <td>117.800003</td>\n",
       "    </tr>\n",
       "    <tr>\n",
       "      <th>849767</th>\n",
       "      <td>2016-12-28</td>\n",
       "      <td>117.519997</td>\n",
       "      <td>116.760002</td>\n",
       "      <td>116.199997</td>\n",
       "      <td>20905900.0</td>\n",
       "      <td>118.019997</td>\n",
       "    </tr>\n",
       "    <tr>\n",
       "      <th>850267</th>\n",
       "      <td>2016-12-29</td>\n",
       "      <td>116.449997</td>\n",
       "      <td>116.730003</td>\n",
       "      <td>116.400002</td>\n",
       "      <td>15039500.0</td>\n",
       "      <td>117.110001</td>\n",
       "    </tr>\n",
       "    <tr>\n",
       "      <th>850767</th>\n",
       "      <td>2016-12-30</td>\n",
       "      <td>116.650002</td>\n",
       "      <td>115.820000</td>\n",
       "      <td>115.430000</td>\n",
       "      <td>30586300.0</td>\n",
       "      <td>117.199997</td>\n",
       "    </tr>\n",
       "  </tbody>\n",
       "</table>\n",
       "<p>1762 rows × 6 columns</p>\n",
       "</div>"
      ],
      "text/plain": [
       "              date        open       close         low       volume  \\\n",
       "254     2010-01-04   30.490000   30.572857   30.340000  123432400.0   \n",
       "721     2010-01-05   30.657143   30.625713   30.464285  150476200.0   \n",
       "1189    2010-01-06   30.625713   30.138571   30.107143  138040000.0   \n",
       "1657    2010-01-07   30.250000   30.082857   29.864286  119282800.0   \n",
       "2125    2010-01-08   30.042856   30.282858   29.865715  111902700.0   \n",
       "...            ...         ...         ...         ...          ...   \n",
       "848767  2016-12-23  115.589996  116.519997  115.589996   14249500.0   \n",
       "849267  2016-12-27  116.519997  117.260002  116.489998   18296900.0   \n",
       "849767  2016-12-28  117.519997  116.760002  116.199997   20905900.0   \n",
       "850267  2016-12-29  116.449997  116.730003  116.400002   15039500.0   \n",
       "850767  2016-12-30  116.650002  115.820000  115.430000   30586300.0   \n",
       "\n",
       "              high  \n",
       "254      30.642857  \n",
       "721      30.798571  \n",
       "1189     30.747143  \n",
       "1657     30.285715  \n",
       "2125     30.285715  \n",
       "...            ...  \n",
       "848767  116.519997  \n",
       "849267  117.800003  \n",
       "849767  118.019997  \n",
       "850267  117.110001  \n",
       "850767  117.199997  \n",
       "\n",
       "[1762 rows x 6 columns]"
      ]
     },
     "execution_count": 32,
     "metadata": {},
     "output_type": "execute_result"
    }
   ],
   "source": [
    "#Initializing the Dataset for the Stock to be Analysized\n",
    "data = data.loc[(data['symbol'] == 'AAPL')]\n",
    "data = data.drop(columns=['symbol'])\n",
    "data = data[['date', 'open', 'close', 'low', 'volume', 'high']]\n",
    "data"
   ]
  },
  {
   "cell_type": "code",
   "execution_count": 33,
   "id": "6e7f3330",
   "metadata": {},
   "outputs": [
    {
     "data": {
      "text/plain": [
       "(1762, 6)"
      ]
     },
     "execution_count": 33,
     "metadata": {},
     "output_type": "execute_result"
    }
   ],
   "source": [
    "#Number of rows and columns we are working with\n",
    "data.shape"
   ]
  },
  {
   "cell_type": "markdown",
   "id": "71f4ec86",
   "metadata": {},
   "source": [
    "Ploting the closing price of the Stock"
   ]
  },
  {
   "cell_type": "code",
   "execution_count": 34,
   "id": "4c651299",
   "metadata": {},
   "outputs": [
    {
     "data": {
      "image/png": "[encoded data removed]",
      "text/plain": [
       "<Figure size 432x288 with 1 Axes>"
      ]
     },
     "metadata": {
      "needs_background": "light"
     },
     "output_type": "display_data"
    }
   ],
   "source": [
    "plt.scatter(data.date, data.close, color='blue')\n",
    "plt.xlabel(\"Time\")\n",
    "plt.ylabel(\"Close\")\n",
    "plt.show()"
   ]
  },
  {
   "cell_type": "markdown",
   "id": "12d72422",
   "metadata": {},
   "source": [
    "### Here we can see that the Stock is growing in Long-Term with multiple medium downfalls \n",
    "So it is good for Long-term investing"
   ]
  },
  {
   "cell_type": "code",
   "execution_count": 35,
   "id": "73fd675b",
   "metadata": {},
   "outputs": [],
   "source": [
    "#For plotting against time\n",
    "data['date'] = pd.to_datetime(data.date)"
   ]
  },
  {
   "cell_type": "code",
   "execution_count": 36,
   "id": "f3aa842c",
   "metadata": {},
   "outputs": [
    {
     "data": {
      "text/plain": [
       "<AxesSubplot:>"
      ]
     },
     "execution_count": 36,
     "metadata": {},
     "output_type": "execute_result"
    },
    {
     "data": {
      "image/png": "[encoded data removed]",
      "text/plain": [
       "<Figure size 1152x576 with 1 Axes>"
      ]
     },
     "metadata": {
      "needs_background": "light"
     },
     "output_type": "display_data"
    }
   ],
   "source": [
    "#Plot for close values on each date\n",
    "data['close'].plot(figsize=(16, 8))"
   ]
  },
  {
   "cell_type": "markdown",
   "id": "5aac546d",
   "metadata": {},
   "source": [
    "# Linear Regression"
   ]
  },
  {
   "cell_type": "markdown",
   "id": "d8f62af2",
   "metadata": {},
   "source": [
    "Here we are going to use LR to make simple prediction of the stock value change. We are checking for accuracy on a particular Stock."
   ]
  },
  {
   "cell_type": "code",
   "execution_count": 37,
   "id": "4e0e93ab",
   "metadata": {},
   "outputs": [],
   "source": [
    "x1 = data[['open', 'high', 'low', 'volume']]\n",
    "y1 = data['close']"
   ]
  },
  {
   "cell_type": "code",
   "execution_count": 38,
   "id": "ca07596c",
   "metadata": {},
   "outputs": [],
   "source": [
    "#Making test and train datasets\n",
    "x1_train, x1_test, y1_train, y1_test = train_test_split(x1, y1, random_state = 0)"
   ]
  },
  {
   "cell_type": "code",
   "execution_count": 39,
   "id": "9f7a8d9f",
   "metadata": {},
   "outputs": [
    {
     "data": {
      "text/plain": [
       "(1321, 4)"
      ]
     },
     "execution_count": 39,
     "metadata": {},
     "output_type": "execute_result"
    }
   ],
   "source": [
    "x1_train.shape"
   ]
  },
  {
   "cell_type": "code",
   "execution_count": 40,
   "id": "ffe7c287",
   "metadata": {},
   "outputs": [
    {
     "data": {
      "text/plain": [
       "(441, 4)"
      ]
     },
     "execution_count": 40,
     "metadata": {},
     "output_type": "execute_result"
    }
   ],
   "source": [
    "x1_test.shape"
   ]
  },
  {
   "cell_type": "code",
   "execution_count": 41,
   "id": "74381105",
   "metadata": {},
   "outputs": [],
   "source": [
    "#Initailizing LinearRegression\n",
    "regression = LinearRegression()"
   ]
  },
  {
   "cell_type": "code",
   "execution_count": 42,
   "id": "0a007d6e",
   "metadata": {},
   "outputs": [
    {
     "data": {
      "text/plain": [
       "LinearRegression()"
      ]
     },
     "execution_count": 42,
     "metadata": {},
     "output_type": "execute_result"
    }
   ],
   "source": [
    "regression.fit(x1_train, y1_train)"
   ]
  },
  {
   "cell_type": "code",
   "execution_count": 43,
   "id": "10798e37",
   "metadata": {},
   "outputs": [
    {
     "name": "stdout",
     "output_type": "stream",
     "text": [
      "[-6.57250881e-01  8.33100712e-01  8.24296617e-01  3.19056892e-10]\n"
     ]
    }
   ],
   "source": [
    "print(regression.coef_)"
   ]
  },
  {
   "cell_type": "code",
   "execution_count": 44,
   "id": "6f9c69fd",
   "metadata": {},
   "outputs": [
    {
     "name": "stdout",
     "output_type": "stream",
     "text": [
      "-0.017245251217801183\n"
     ]
    }
   ],
   "source": [
    "print(regression.intercept_)"
   ]
  },
  {
   "cell_type": "code",
   "execution_count": 45,
   "id": "88515293",
   "metadata": {},
   "outputs": [],
   "source": [
    "predicted = regression.predict(x1_test)"
   ]
  },
  {
   "cell_type": "code",
   "execution_count": 46,
   "id": "03367fd0",
   "metadata": {},
   "outputs": [
    {
     "name": "stdout",
     "output_type": "stream",
     "text": [
      "              open        high         low       volume\n",
      "554866  100.440002  101.089996   99.949997   52699000.0\n",
      "313912   97.141426   97.267143   96.220001  106752100.0\n",
      "193592   52.072857   52.125713   50.727142  133828800.0\n",
      "262212   86.105713   87.092857   85.915718  161010500.0\n",
      "642920  124.769997  126.080002  124.019997   43940900.0\n",
      "...            ...         ...         ...          ...\n",
      "435361   70.285713   70.421425   69.500000   68074300.0\n",
      "45198    33.259998   34.928570   33.049999  305972800.0\n",
      "361577   65.714287   66.532860   64.321426  365213100.0\n",
      "83656    39.669998   39.708572   39.097141  158619300.0\n",
      "50826    35.924286   35.985714   34.641430  213657500.0\n",
      "\n",
      "[441 rows x 4 columns]\n"
     ]
    }
   ],
   "source": [
    "#Predictions for Stock values\n",
    "print(x1_test)"
   ]
  },
  {
   "cell_type": "code",
   "execution_count": 47,
   "id": "a8ce752a",
   "metadata": {},
   "outputs": [
    {
     "data": {
      "text/plain": [
       "(441,)"
      ]
     },
     "execution_count": 47,
     "metadata": {},
     "output_type": "execute_result"
    }
   ],
   "source": [
    "predicted.shape"
   ]
  },
  {
   "cell_type": "markdown",
   "id": "6e653663",
   "metadata": {},
   "source": [
    "# Evaluation of the model"
   ]
  },
  {
   "cell_type": "markdown",
   "id": "89466096",
   "metadata": {},
   "source": [
    "Making table for Actual price and Predicted Price"
   ]
  },
  {
   "cell_type": "code",
   "execution_count": 48,
   "id": "d398a810",
   "metadata": {},
   "outputs": [
    {
     "name": "stdout",
     "output_type": "stream",
     "text": [
      "        Actual_Price  Predicted_Price\n",
      "554866    100.570000       100.591881\n",
      "313912     96.525711        96.517675\n",
      "193592     50.919998        51.040703\n",
      "262212     86.071426        86.818228\n",
      "642920    125.260002       125.258187\n",
      "...              ...              ...\n",
      "435361     69.602859        69.765881\n",
      "45198      34.617142        34.562233\n",
      "361577     64.357140        65.357013\n",
      "83656      39.338570        39.269103\n",
      "50826      34.742859        34.974192\n",
      "\n",
      "[441 rows x 2 columns]\n"
     ]
    }
   ],
   "source": [
    "dframe = pd.DataFrame(y1_test, predicted)\n",
    "dfr = pd.DataFrame({'Actual_Price':y1_test, 'Predicted_Price':predicted})\n",
    "print(dfr)"
   ]
  },
  {
   "cell_type": "code",
   "execution_count": 49,
   "id": "e725c3c6",
   "metadata": {},
   "outputs": [
    {
     "data": {
      "text/html": [
       "<div>\n",
       "<style scoped>\n",
       "    .dataframe tbody tr th:only-of-type {\n",
       "        vertical-align: middle;\n",
       "    }\n",
       "\n",
       "    .dataframe tbody tr th {\n",
       "        vertical-align: top;\n",
       "    }\n",
       "\n",
       "    .dataframe thead th {\n",
       "        text-align: right;\n",
       "    }\n",
       "</style>\n",
       "<table border=\"1\" class=\"dataframe\">\n",
       "  <thead>\n",
       "    <tr style=\"text-align: right;\">\n",
       "      <th></th>\n",
       "      <th>Actual_Price</th>\n",
       "      <th>Predicted_Price</th>\n",
       "    </tr>\n",
       "  </thead>\n",
       "  <tbody>\n",
       "    <tr>\n",
       "      <th>554866</th>\n",
       "      <td>100.570000</td>\n",
       "      <td>100.591881</td>\n",
       "    </tr>\n",
       "    <tr>\n",
       "      <th>313912</th>\n",
       "      <td>96.525711</td>\n",
       "      <td>96.517675</td>\n",
       "    </tr>\n",
       "    <tr>\n",
       "      <th>193592</th>\n",
       "      <td>50.919998</td>\n",
       "      <td>51.040703</td>\n",
       "    </tr>\n",
       "    <tr>\n",
       "      <th>262212</th>\n",
       "      <td>86.071426</td>\n",
       "      <td>86.818228</td>\n",
       "    </tr>\n",
       "    <tr>\n",
       "      <th>642920</th>\n",
       "      <td>125.260002</td>\n",
       "      <td>125.258187</td>\n",
       "    </tr>\n",
       "    <tr>\n",
       "      <th>632546</th>\n",
       "      <td>125.599998</td>\n",
       "      <td>125.595923</td>\n",
       "    </tr>\n",
       "    <tr>\n",
       "      <th>513706</th>\n",
       "      <td>75.957146</td>\n",
       "      <td>75.688617</td>\n",
       "    </tr>\n",
       "    <tr>\n",
       "      <th>473526</th>\n",
       "      <td>78.431427</td>\n",
       "      <td>78.611226</td>\n",
       "    </tr>\n",
       "    <tr>\n",
       "      <th>813267</th>\n",
       "      <td>111.769997</td>\n",
       "      <td>112.239228</td>\n",
       "    </tr>\n",
       "    <tr>\n",
       "      <th>850767</th>\n",
       "      <td>115.820000</td>\n",
       "      <td>116.112156</td>\n",
       "    </tr>\n",
       "  </tbody>\n",
       "</table>\n",
       "</div>"
      ],
      "text/plain": [
       "        Actual_Price  Predicted_Price\n",
       "554866    100.570000       100.591881\n",
       "313912     96.525711        96.517675\n",
       "193592     50.919998        51.040703\n",
       "262212     86.071426        86.818228\n",
       "642920    125.260002       125.258187\n",
       "632546    125.599998       125.595923\n",
       "513706     75.957146        75.688617\n",
       "473526     78.431427        78.611226\n",
       "813267    111.769997       112.239228\n",
       "850767    115.820000       116.112156"
      ]
     },
     "execution_count": 49,
     "metadata": {},
     "output_type": "execute_result"
    }
   ],
   "source": [
    "#Actual values vs Predicted Values \n",
    "dfr.head(10)"
   ]
  },
  {
   "cell_type": "code",
   "execution_count": 50,
   "id": "c4a48fdb",
   "metadata": {},
   "outputs": [],
   "source": [
    "from sklearn.metrics import confusion_matrix, accuracy_score"
   ]
  },
  {
   "cell_type": "code",
   "execution_count": 51,
   "id": "6d55dbaf",
   "metadata": {},
   "outputs": [
    {
     "data": {
      "text/plain": [
       "0.9997097933702983"
      ]
     },
     "execution_count": 51,
     "metadata": {},
     "output_type": "execute_result"
    }
   ],
   "source": [
    "#Regrssion Score Analysis\n",
    "regression.score(x1_test, y1_test)"
   ]
  },
  {
   "cell_type": "code",
   "execution_count": 52,
   "id": "5b25976f",
   "metadata": {},
   "outputs": [
    {
     "name": "stdout",
     "output_type": "stream",
     "text": [
      "Mean Absolute Error: 0.30608656696067815\n",
      "Mean Squared Error: 0.22821232374110115\n",
      "Root Mean Squared Error: 0.4777157352873162\n"
     ]
    }
   ],
   "source": [
    "print('Mean Absolute Error:', metrics.mean_absolute_error(y1_test, predicted))\n",
    "print('Mean Squared Error:', metrics.mean_squared_error(y1_test, predicted))\n",
    "print('Root Mean Squared Error:', np.sqrt(metrics.mean_squared_error(y1_test, predicted)))"
   ]
  },
  {
   "cell_type": "code",
   "execution_count": 53,
   "id": "f822d479",
   "metadata": {},
   "outputs": [
    {
     "name": "stdout",
     "output_type": "stream",
     "text": [
      "The accuracy of the model is  100.03086789989214\n"
     ]
    }
   ],
   "source": [
    "x2 = dfr.Actual_Price.mean()\n",
    "y2 = dfr.Predicted_Price.mean()\n",
    "Accuracy1 = x2/y2*100\n",
    "print(\"The accuracy of the model is \" , Accuracy1)"
   ]
  },
  {
   "cell_type": "markdown",
   "id": "f638d7ef",
   "metadata": {},
   "source": [
    "# Deploying the model by visualization"
   ]
  },
  {
   "cell_type": "markdown",
   "id": "fc2de27d",
   "metadata": {},
   "source": [
    "### Plotting Acutal Close values vs Predicted Values in LR Model"
   ]
  },
  {
   "cell_type": "code",
   "execution_count": 54,
   "id": "67167fb2",
   "metadata": {},
   "outputs": [
    {
     "data": {
      "image/png": "[encoded data removed]",
      "text/plain": [
       "<Figure size 432x288 with 1 Axes>"
      ]
     },
     "metadata": {
      "needs_background": "light"
     },
     "output_type": "display_data"
    }
   ],
   "source": [
    "plt.scatter(dfr.Actual_Price, dfr.Predicted_Price,  color='red')\n",
    "plt.xlabel(\"Actual Price\")\n",
    "plt.ylabel(\"Predicted Price\")\n",
    "\n",
    "plt.show()"
   ]
  },
  {
   "cell_type": "markdown",
   "id": "ee73b918",
   "metadata": {},
   "source": [
    "We can see that using simple Linear Regression on a Scalar and Linear entity as Stock Price over a period of time gives a simple and straight line. Stating that the stock is growing over time. So now we are some what confident in investing in this stock. To better understand next we are using LSTM model."
   ]
  },
  {
   "cell_type": "code",
   "execution_count": null,
   "id": "c2b1eaf4",
   "metadata": {},
   "outputs": [],
   "source": []
  },
  {
   "cell_type": "code",
   "execution_count": null,
   "id": "f54b9590",
   "metadata": {},
   "outputs": [],
   "source": []
  }
 ],
 "metadata": {
  "kernelspec": {
   "display_name": "Python 3",
   "language": "python",
   "name": "python3"
  },
  "language_info": {
   "codemirror_mode": {
    "name": "ipython",
    "version": 3
   },
   "file_extension": ".py",
   "mimetype": "text/x-python",
   "name": "python",
   "nbconvert_exporter": "python",
   "pygments_lexer": "ipython3",
   "version": "3.8.8"
  }
 },
 "nbformat": 4,
 "nbformat_minor": 5
}
